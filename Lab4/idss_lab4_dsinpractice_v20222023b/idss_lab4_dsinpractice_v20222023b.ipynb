{
 "cells": [
  {
   "cell_type": "markdown",
   "metadata": {
    "deletable": false,
    "editable": false,
    "nbgrader": {
     "cell_type": "markdown",
     "checksum": "3578b33b8feb824075b33cddc3bbb29d",
     "grade": false,
     "grade_id": "cell-9995d325f17152b9",
     "locked": true,
     "schema_version": 3,
     "solution": false
    },
    "tags": []
   },
   "source": [
    "# Introduction to Data Science and Systems 2022-2023<small><small>v20222023b</small></small>\n",
    "# Lab 4: Data Science in practice\n",
    "\n",
    "**You should submit this notebook on Moodle along with one pdf file (see the end of the notebook and Moodle for instructions)**\n",
    "\n",
    "---\n",
    "**University of Glasgow**\n",
    "> - original material prepared by: JHW, BSJ, NP 2021-2022\n",
    "> - current version modifed and reviewed by: ZM and NP 2022-2023\n",
    "\n",
    "$$\n",
    "\\newcommand{\\vec}[1]{ {\\bf #1}} \n",
    "\\newcommand{\\real}{\\mathbb{R}}\n",
    "\\DeclareMathOperator*{\\argmin}{arg\\,min}\n",
    "\\newcommand{\\expect}[1]{\\mathbb{E}[#1]}\n",
    "$$"
   ]
  },
  {
   "cell_type": "markdown",
   "metadata": {
    "deletable": false,
    "editable": false,
    "nbgrader": {
     "cell_type": "markdown",
     "checksum": "9f8b0f81996e9e1f43d6d8d4b8e41bef",
     "grade": false,
     "grade_id": "cell-32f2e0771a121341",
     "locked": true,
     "schema_version": 3,
     "solution": false
    }
   },
   "source": [
    "## Purpose of this lab\n",
    "\n",
    "In the lab you might need to use your *pen* and *paper* to do some calcuation, and then type your solution into some corresponding variables for autograding.\n",
    "\n",
    "You will apply some of the data science and systems techniques you have learned about previously. \n",
    "\n",
    "The aim is to use the basic techniques to solve a specific problem related to accessing and storing data in memory (i.e. Pandas Dataframe) and disk storage. \n",
    "\n",
    "**Task A: Physical storage for a relation database**\n",
    "* Estimate the space cost of a relation data system\n",
    "\n",
    "**Task B: Compressing data by PCA**\n",
    "* Implement a solution for compressing the values in the dataset based on PCA\n",
    "\n",
    "**Task C: Query performance estimation**\n",
    "* Estimate the query cost of a joined data system\n",
    "\n",
    "**Task D: Query cardinality prediction**\n",
    "* Investigate the relationship between query cardinality and the query itself\n",
    "* Sample a set of realistic queries using your knowledge of probability density functions\n",
    "* Collect a dataset of queries and cardinality using Pandas \n",
    "* Suggest and implement your own solution for predicting the cardinality of the query (using linear algebra)\n",
    "\n",
    "\n",
    "\n",
    "***Notice:*** \n",
    "- This lab is more open-ended than the previous labs and there are fewer step-by-step instructions.\n",
    "- It is a brand new lab so there are bound to be a few glitches, so don't hesitate to ask if you get stuck.\n"
   ]
  },
  {
   "cell_type": "markdown",
   "metadata": {
    "deletable": false,
    "editable": false,
    "nbgrader": {
     "cell_type": "markdown",
     "checksum": "06641585b47bb5c4d9585a3fdf4a8344",
     "grade": false,
     "grade_id": "cell-694988c1dc6e76b9",
     "locked": true,
     "schema_version": 3,
     "solution": false,
     "task": false
    }
   },
   "source": [
    "---"
   ]
  },
  {
   "cell_type": "markdown",
   "metadata": {
    "deletable": false,
    "editable": false,
    "nbgrader": {
     "cell_type": "markdown",
     "checksum": "215e7806e7e0dc4fca2671773bfc3a1d",
     "grade": false,
     "grade_id": "cell-020dbd08f33fd09c",
     "locked": true,
     "schema_version": 3,
     "solution": false,
     "task": false
    },
    "tags": []
   },
   "source": [
    "## Before you begin\n",
    "\n",
    "Please update the tools we use for the automated grading by running the below command (uncomment) and restart your kernel (and then uncomment again) -- or simply perform the installation externally in an Anaconda/Python prompt."
   ]
  },
  {
   "cell_type": "code",
   "execution_count": 1,
   "metadata": {},
   "outputs": [],
   "source": [
    "# !pip install -U --force-reinstall --no-cache https://github.com/johnhw/jhwutils/zipball/master\n",
    "\n",
    "# the following will allow you to downlad the data files you need (that are otherwise in the zip file)\n",
    "# you can comment this line after the first run.\n",
    "#!pip install wget\n",
    "# !wget https://github.com/pugeault/IDSS2022-23/raw/main/lab4-files.zip\n",
    "# !unzip -o lab4-files.zip"
   ]
  },
  {
   "cell_type": "code",
   "execution_count": 2,
   "metadata": {
    "deletable": false,
    "editable": false,
    "nbgrader": {
     "cell_type": "code",
     "checksum": "b722b69fbf9dc2085190c6113eee2eea",
     "grade": false,
     "grade_id": "cell-11d54b1a126bcd55",
     "locked": true,
     "schema_version": 3,
     "solution": false,
     "task": false
    }
   },
   "outputs": [
    {
     "name": "stdout",
     "output_type": "stream",
     "text": [
      "np 1.23.1\n",
      "pd 1.4.4\n",
      "Everything imported OK (ignore deprecated warnings)\n"
     ]
    }
   ],
   "source": [
    "# Standard imports\n",
    "# Make sure you run this cell!\n",
    "from __future__ import division, print_function\n",
    "\n",
    "import binascii\n",
    "import math\n",
    "import os\n",
    "import sys\n",
    "import time\n",
    "import timeit\n",
    "from unittest.mock import patch\n",
    "from uuid import getnode as get_mac\n",
    "\n",
    "import jhwutils.image_audio as ia\n",
    "import jhwutils.tick as tick\n",
    "import numpy as np  # NumPy\n",
    "import pandas as pd\n",
    "import scipy.stats\n",
    "from jhwutils.checkarr import array_hash, check_hash, check_scalar, check_string\n",
    "\n",
    "###\n",
    "tick.reset_marks()\n",
    "\n",
    "# special hash funciton\n",
    "def case_crc(s, verbose=True):\n",
    "    h_crc = binascii.crc32(bytes(s.lower(), \"ascii\"))\n",
    "    if verbose:\n",
    "        print(h_crc)\n",
    "    return h_crc\n",
    "\n",
    "\n",
    "# this command generaties a unique key for your system/computer/account\n",
    "uuid_simple = (\"%s\") % get_mac()\n",
    "uuid_str = (\"%s\\n%s\\n%s\\n%s\\n%s\\n\") % (\n",
    "    os.path,\n",
    "    sys.path,\n",
    "    sys.version,\n",
    "    sys.version_info,\n",
    "    get_mac(),\n",
    ")\n",
    "uuid_system = case_crc(uuid_str, verbose=False)\n",
    "\n",
    "\n",
    "# Set up Matplotlib\n",
    "import matplotlib as mpl\n",
    "import matplotlib.pyplot as plt\n",
    "\n",
    "%matplotlib inline\n",
    "plt.rc(\"figure\", figsize=(8.0, 4.0), dpi=140)\n",
    "np.random.seed(2019)\n",
    "\n",
    "# You can ignore this\n",
    "print(\"np\", np.__version__)\n",
    "print(\"pd\", pd.__version__)\n",
    "print(\"Everything imported OK (ignore deprecated warnings)\")"
   ]
  },
  {
   "cell_type": "code",
   "execution_count": 3,
   "metadata": {
    "deletable": false,
    "editable": false,
    "nbgrader": {
     "cell_type": "code",
     "checksum": "e46a494577565c6dc3c0ef7e5b643c9d",
     "grade": true,
     "grade_id": "cell-0f5367ef948a09e5",
     "locked": true,
     "points": 0,
     "schema_version": 3,
     "solution": false
    }
   },
   "outputs": [],
   "source": [
    "# Hidden cell for utils needed when grading (you can/should not edit this)"
   ]
  },
  {
   "cell_type": "markdown",
   "metadata": {
    "deletable": false,
    "editable": false,
    "nbgrader": {
     "cell_type": "markdown",
     "checksum": "04c010b313e7437ca01b5070c12e1b5a",
     "grade": false,
     "grade_id": "cell-6cf6ae691d8e5309",
     "locked": true,
     "schema_version": 3,
     "solution": false,
     "task": false
    }
   },
   "source": [
    "---"
   ]
  },
  {
   "cell_type": "markdown",
   "metadata": {
    "deletable": false,
    "editable": false,
    "nbgrader": {
     "cell_type": "markdown",
     "checksum": "dec9268b4d9bcf8c0dc45c4725ad4fa6",
     "grade": false,
     "grade_id": "cell-81b8a494524a0965",
     "locked": true,
     "schema_version": 3,
     "solution": false
    }
   },
   "source": [
    "**Mini-task**: provide your personal details in two variables:\n",
    "\n",
    "* `student_id` : a string containing your student id (e.g. \"1234567x\"), must be 8 chars long.\n",
    "* `student_typewritten_signature`: a string with your name (e.g. \"Adam Smith\") which serves as a declaration that this is your own work (read the declaration of originality when you submit on Moodle)."
   ]
  },
  {
   "cell_type": "code",
   "execution_count": 4,
   "metadata": {
    "deletable": false,
    "nbgrader": {
     "cell_type": "code",
     "checksum": "2b4ac92251b99a35d406cfde87826ac8",
     "grade": false,
     "grade_id": "cell-093ae1eb980af8c9",
     "locked": false,
     "schema_version": 3,
     "solution": true
    }
   },
   "outputs": [],
   "source": [
    "student_id = \"2635088H\"  # your 8 char student id\n",
    "student_typewritten_signature = \"Haoshi Huang\"  # your full name, avoid spceical chars if possible\n",
    "\n",
    "# YOUR CODE HERE\n",
    "# raise NotImplementedError()"
   ]
  },
  {
   "cell_type": "code",
   "execution_count": 5,
   "metadata": {
    "deletable": false,
    "editable": false,
    "nbgrader": {
     "cell_type": "code",
     "checksum": "7a0da89e0a9104cadc38e5213003fd42",
     "grade": true,
     "grade_id": "cell-3237233d1a760ae1",
     "locked": true,
     "points": 0,
     "schema_version": 3,
     "solution": false,
     "task": false
    }
   },
   "outputs": [
    {
     "data": {
      "text/html": [
       "\n",
       "        <div class=\"alert alert-box alert-success\">\n",
       "        <h1> <!--{id:\"CORRECTMARK\", marks:\"0\"}--> \n",
       "         ✓ [0 marks] \n",
       "         </h1> </div>"
      ],
      "text/plain": [
       "<IPython.core.display.HTML object>"
      ]
     },
     "metadata": {},
     "output_type": "display_data"
    },
    {
     "data": {
      "text/html": [
       "\n",
       "        <div class=\"alert alert-box alert-success\">\n",
       "        <h1> <!--{id:\"CORRECTMARK\", marks:\"0\"}--> \n",
       "         ✓ [0 marks] \n",
       "         </h1> </div>"
      ],
      "text/plain": [
       "<IPython.core.display.HTML object>"
      ]
     },
     "metadata": {},
     "output_type": "display_data"
    },
    {
     "name": "stdout",
     "output_type": "stream",
     "text": [
      "STUDENT_ID:=[2635088H|Haoshi Huang]\n"
     ]
    }
   ],
   "source": [
    "## We will print your info to a pdf file at the end of the notebook -\n",
    "# including the Declaration of Originality - which must be uploaded alongside\n",
    "# the actual notebook. You should also see two green \"v [0 marks]\n",
    "# indicating that your info meet the basic std.\n",
    "\n",
    "with tick.marks(\n",
    "    0\n",
    "):  # you don't get any credit for remembering your student id. This is just a test!\n",
    "    assert len(student_id) == 8\n",
    "\n",
    "with tick.marks(\n",
    "    0\n",
    "):  # you don't get any credit for remembering your own name! This is just a test!\n",
    "    assert len(student_typewritten_signature) > 0\n",
    "\n",
    "# for redundancy (if the PDF did not generate properly)\n",
    "print(\n",
    "    \"STUDENT_ID:=[{sid}|{name}]\".format(\n",
    "        sid=student_id, name=student_typewritten_signature\n",
    "    )\n",
    ")"
   ]
  },
  {
   "cell_type": "markdown",
   "metadata": {
    "deletable": false,
    "editable": false,
    "nbgrader": {
     "cell_type": "markdown",
     "checksum": "1f9cbaddb030c7f43fc9e99ade2cb7c9",
     "grade": false,
     "grade_id": "cell-2a2e245fe1a734dd",
     "locked": true,
     "schema_version": 3,
     "solution": false,
     "task": false
    }
   },
   "source": [
    "## Introduction\n",
    "\n",
    "The system admins are planning to temporally process the data in a Pandas DataFrame (stored in varable `data`), and then dump it into the disk as a relation database.\n",
    "However, they are concerned about the performance of on both the Pandas-based system and relational data system. We will investigate these in the following tasks."
   ]
  },
  {
   "cell_type": "markdown",
   "metadata": {
    "deletable": false,
    "editable": false,
    "nbgrader": {
     "cell_type": "markdown",
     "checksum": "0ee9cfb48ef4b3dd7eec12b31df9838e",
     "grade": false,
     "grade_id": "cell-efa61adcaba08934",
     "locked": true,
     "schema_version": 3,
     "solution": false
    }
   },
   "source": [
    "### Download the dataset and load the dataset\n",
    "Download the **Covertype** Data Set from the UCI repository and save it in a subfolder called `./data` (i.e. when loading you should load from `./data/covtype.data`)\n",
    "\n",
    "https://archive.ics.uci.edu/ml/datasets/Covertype\n",
    "\n",
    "Load the dataset in `covtype.data` into a Pandas DataFrame and add appropriate headers to the first **11 columns** (below please see a list of column names) according to the dataset description (e.g. the first column should be \"Elevation\").\n",
    ">    - 'Elevation'\n",
    ">    - 'Aspect'\n",
    ">    - 'Slope'\n",
    ">    - 'Horizontal_Distance_To_Hydrology'\n",
    ">    - 'Vertical_Distance_To_Hydrology'\n",
    ">    - 'Horizontal_Distance_To_Roadways'\n",
    ">    - 'Hillshade_9am'\n",
    ">    - 'Hillshade_Noon'\n",
    ">    - 'Hillshade_3pm'\n",
    ">    - 'Horizontal_Distance_To_Fire_Points'\n",
    ">    - 'Wilderness_Area'\n",
    "\n",
    "Hint: use `pandas.read_csv` to load a dataset into `DataFrame` without header and consider using its `rename` method.\n"
   ]
  },
  {
   "cell_type": "code",
   "execution_count": 6,
   "metadata": {
    "deletable": false,
    "nbgrader": {
     "cell_type": "code",
     "checksum": "75fd8b88bd0b44f03638a05bceb48ebd",
     "grade": false,
     "grade_id": "cell-2c78f3f996910518",
     "locked": false,
     "schema_version": 3,
     "solution": true
    }
   },
   "outputs": [
    {
     "name": "stdout",
     "output_type": "stream",
     "text": [
      "        Elevation  Aspect  Slope  Horizontal_Distance_To_Hydrology  \\\n",
      "0            2596      51      3                               258   \n",
      "1            2590      56      2                               212   \n",
      "2            2804     139      9                               268   \n",
      "3            2785     155     18                               242   \n",
      "4            2595      45      2                               153   \n",
      "...           ...     ...    ...                               ...   \n",
      "581007       2396     153     20                                85   \n",
      "581008       2391     152     19                                67   \n",
      "581009       2386     159     17                                60   \n",
      "581010       2384     170     15                                60   \n",
      "581011       2383     165     13                                60   \n",
      "\n",
      "        Vertical_Distance_To_Hydrology  Horizontal_Distance_To_Roadways  \\\n",
      "0                                    0                              510   \n",
      "1                                   -6                              390   \n",
      "2                                   65                             3180   \n",
      "3                                  118                             3090   \n",
      "4                                   -1                              391   \n",
      "...                                ...                              ...   \n",
      "581007                              17                              108   \n",
      "581008                              12                               95   \n",
      "581009                               7                               90   \n",
      "581010                               5                               90   \n",
      "581011                               4                               67   \n",
      "\n",
      "        Hillshade_9am  Hillshade_Noon  Hillshade_3pm  \\\n",
      "0                 221             232            148   \n",
      "1                 220             235            151   \n",
      "2                 234             238            135   \n",
      "3                 238             238            122   \n",
      "4                 220             234            150   \n",
      "...               ...             ...            ...   \n",
      "581007            240             237            118   \n",
      "581008            240             237            119   \n",
      "581009            236             241            130   \n",
      "581010            230             245            143   \n",
      "581011            231             244            141   \n",
      "\n",
      "        Horizontal_Distance_To_Fire_Points  ...  45  46  47  48  49  50  51  \\\n",
      "0                                     6279  ...   0   0   0   0   0   0   0   \n",
      "1                                     6225  ...   0   0   0   0   0   0   0   \n",
      "2                                     6121  ...   0   0   0   0   0   0   0   \n",
      "3                                     6211  ...   0   0   0   0   0   0   0   \n",
      "4                                     6172  ...   0   0   0   0   0   0   0   \n",
      "...                                    ...  ...  ..  ..  ..  ..  ..  ..  ..   \n",
      "581007                                 837  ...   0   0   0   0   0   0   0   \n",
      "581008                                 845  ...   0   0   0   0   0   0   0   \n",
      "581009                                 854  ...   0   0   0   0   0   0   0   \n",
      "581010                                 864  ...   0   0   0   0   0   0   0   \n",
      "581011                                 875  ...   0   0   0   0   0   0   0   \n",
      "\n",
      "        52  53  54  \n",
      "0        0   0   5  \n",
      "1        0   0   5  \n",
      "2        0   0   2  \n",
      "3        0   0   2  \n",
      "4        0   0   5  \n",
      "...     ..  ..  ..  \n",
      "581007   0   0   3  \n",
      "581008   0   0   3  \n",
      "581009   0   0   3  \n",
      "581010   0   0   3  \n",
      "581011   0   0   3  \n",
      "\n",
      "[581012 rows x 55 columns]\n"
     ]
    }
   ],
   "source": [
    "data = pd.read_csv(\"./data/covtype.data\", header=None)\n",
    "cols_keys = list(range(11))\n",
    "cols_values = [\"Elevation\", \"Aspect\", \"Slope\", \"Horizontal_Distance_To_Hydrology\", \"Vertical_Distance_To_Hydrology\", \"Horizontal_Distance_To_Roadways\", \n",
    "\"Hillshade_9am\", \"Hillshade_Noon\", \"Hillshade_3pm\", \"Horizontal_Distance_To_Fire_Points\", \"Wilderness_Area\"]\n",
    "cols = dict(zip(cols_keys, cols_values))\n",
    "data = data.rename(columns=cols)\n",
    "\n",
    "print(data)\n",
    "# YOUR CODE HERE\n",
    "# raise NotImplementedError()"
   ]
  },
  {
   "cell_type": "code",
   "execution_count": 7,
   "metadata": {
    "deletable": false,
    "editable": false,
    "nbgrader": {
     "cell_type": "code",
     "checksum": "06beacae59efd0d3d7e1b9f51f7cf373",
     "grade": true,
     "grade_id": "cell-9979e8d21e886ee4",
     "locked": true,
     "points": 0,
     "schema_version": 3,
     "solution": false
    }
   },
   "outputs": [
    {
     "data": {
      "text/html": [
       "\n",
       "        <div class=\"alert alert-box alert-success\">\n",
       "        <h1> <!--{id:\"CORRECTMARK\", marks:\"0\"}--> \n",
       "         ✓ [0 marks] \n",
       "         </h1> </div>"
      ],
      "text/plain": [
       "<IPython.core.display.HTML object>"
      ]
     },
     "metadata": {},
     "output_type": "display_data"
    }
   ],
   "source": [
    "# Check that you have (most likely) the right data set and have added headers.\n",
    "with tick.marks(0):\n",
    "    assert np.sum(data[\"Elevation\"].to_numpy()) == 1719426752\n",
    "    for i in range(0, 11):\n",
    "        assert isinstance(data.columns[i], str)\n"
   ]
  },
  {
   "cell_type": "markdown",
   "metadata": {
    "deletable": false,
    "editable": false,
    "nbgrader": {
     "cell_type": "markdown",
     "checksum": "55d871bcb31bbb6561c993385f6b7dd0",
     "grade": false,
     "grade_id": "cell-76a82cf3d829dd4f",
     "locked": true,
     "schema_version": 3,
     "solution": false,
     "task": false
    }
   },
   "source": [
    "## Task A: Physical storage for a relation database\n",
    "Now you are asked to dump this dataset into the disk as a relation (called relation **C**), with the index of DataFrame `data` as its primary key.\n",
    "### Task A.1 Inspect the data\n",
    "We can use the `describe()` function in Pandas to extract some useful statistics"
   ]
  },
  {
   "cell_type": "code",
   "execution_count": 8,
   "metadata": {
    "deletable": false,
    "editable": false,
    "nbgrader": {
     "cell_type": "code",
     "checksum": "1ce6a881409893dfc3964a6df6ca7c55",
     "grade": false,
     "grade_id": "cell-808221946ac66f76",
     "locked": true,
     "schema_version": 3,
     "solution": false,
     "task": false
    }
   },
   "outputs": [
    {
     "data": {
      "text/html": [
       "<div>\n",
       "<style scoped>\n",
       "    .dataframe tbody tr th:only-of-type {\n",
       "        vertical-align: middle;\n",
       "    }\n",
       "\n",
       "    .dataframe tbody tr th {\n",
       "        vertical-align: top;\n",
       "    }\n",
       "\n",
       "    .dataframe thead th {\n",
       "        text-align: right;\n",
       "    }\n",
       "</style>\n",
       "<table border=\"1\" class=\"dataframe\">\n",
       "  <thead>\n",
       "    <tr style=\"text-align: right;\">\n",
       "      <th></th>\n",
       "      <th>Elevation</th>\n",
       "      <th>Aspect</th>\n",
       "      <th>Slope</th>\n",
       "      <th>Horizontal_Distance_To_Hydrology</th>\n",
       "      <th>Vertical_Distance_To_Hydrology</th>\n",
       "      <th>Horizontal_Distance_To_Roadways</th>\n",
       "      <th>Hillshade_9am</th>\n",
       "      <th>Hillshade_Noon</th>\n",
       "      <th>Hillshade_3pm</th>\n",
       "      <th>Horizontal_Distance_To_Fire_Points</th>\n",
       "      <th>...</th>\n",
       "      <th>45</th>\n",
       "      <th>46</th>\n",
       "      <th>47</th>\n",
       "      <th>48</th>\n",
       "      <th>49</th>\n",
       "      <th>50</th>\n",
       "      <th>51</th>\n",
       "      <th>52</th>\n",
       "      <th>53</th>\n",
       "      <th>54</th>\n",
       "    </tr>\n",
       "  </thead>\n",
       "  <tbody>\n",
       "    <tr>\n",
       "      <th>count</th>\n",
       "      <td>581012.000000</td>\n",
       "      <td>581012.000000</td>\n",
       "      <td>581012.000000</td>\n",
       "      <td>581012.000000</td>\n",
       "      <td>581012.000000</td>\n",
       "      <td>581012.000000</td>\n",
       "      <td>581012.000000</td>\n",
       "      <td>581012.000000</td>\n",
       "      <td>581012.000000</td>\n",
       "      <td>581012.000000</td>\n",
       "      <td>...</td>\n",
       "      <td>581012.000000</td>\n",
       "      <td>581012.000000</td>\n",
       "      <td>581012.000000</td>\n",
       "      <td>581012.000000</td>\n",
       "      <td>581012.000000</td>\n",
       "      <td>581012.000000</td>\n",
       "      <td>581012.000000</td>\n",
       "      <td>581012.000000</td>\n",
       "      <td>581012.000000</td>\n",
       "      <td>581012.000000</td>\n",
       "    </tr>\n",
       "    <tr>\n",
       "      <th>mean</th>\n",
       "      <td>2959.365301</td>\n",
       "      <td>155.656807</td>\n",
       "      <td>14.103704</td>\n",
       "      <td>269.428217</td>\n",
       "      <td>46.418855</td>\n",
       "      <td>2350.146611</td>\n",
       "      <td>212.146049</td>\n",
       "      <td>223.318716</td>\n",
       "      <td>142.528263</td>\n",
       "      <td>1980.291226</td>\n",
       "      <td>...</td>\n",
       "      <td>0.090392</td>\n",
       "      <td>0.077716</td>\n",
       "      <td>0.002773</td>\n",
       "      <td>0.003255</td>\n",
       "      <td>0.000205</td>\n",
       "      <td>0.000513</td>\n",
       "      <td>0.026803</td>\n",
       "      <td>0.023762</td>\n",
       "      <td>0.015060</td>\n",
       "      <td>2.051471</td>\n",
       "    </tr>\n",
       "    <tr>\n",
       "      <th>std</th>\n",
       "      <td>279.984734</td>\n",
       "      <td>111.913721</td>\n",
       "      <td>7.488242</td>\n",
       "      <td>212.549356</td>\n",
       "      <td>58.295232</td>\n",
       "      <td>1559.254870</td>\n",
       "      <td>26.769889</td>\n",
       "      <td>19.768697</td>\n",
       "      <td>38.274529</td>\n",
       "      <td>1324.195210</td>\n",
       "      <td>...</td>\n",
       "      <td>0.286743</td>\n",
       "      <td>0.267725</td>\n",
       "      <td>0.052584</td>\n",
       "      <td>0.056957</td>\n",
       "      <td>0.014310</td>\n",
       "      <td>0.022641</td>\n",
       "      <td>0.161508</td>\n",
       "      <td>0.152307</td>\n",
       "      <td>0.121791</td>\n",
       "      <td>1.396504</td>\n",
       "    </tr>\n",
       "    <tr>\n",
       "      <th>min</th>\n",
       "      <td>1859.000000</td>\n",
       "      <td>0.000000</td>\n",
       "      <td>0.000000</td>\n",
       "      <td>0.000000</td>\n",
       "      <td>-173.000000</td>\n",
       "      <td>0.000000</td>\n",
       "      <td>0.000000</td>\n",
       "      <td>0.000000</td>\n",
       "      <td>0.000000</td>\n",
       "      <td>0.000000</td>\n",
       "      <td>...</td>\n",
       "      <td>0.000000</td>\n",
       "      <td>0.000000</td>\n",
       "      <td>0.000000</td>\n",
       "      <td>0.000000</td>\n",
       "      <td>0.000000</td>\n",
       "      <td>0.000000</td>\n",
       "      <td>0.000000</td>\n",
       "      <td>0.000000</td>\n",
       "      <td>0.000000</td>\n",
       "      <td>1.000000</td>\n",
       "    </tr>\n",
       "    <tr>\n",
       "      <th>25%</th>\n",
       "      <td>2809.000000</td>\n",
       "      <td>58.000000</td>\n",
       "      <td>9.000000</td>\n",
       "      <td>108.000000</td>\n",
       "      <td>7.000000</td>\n",
       "      <td>1106.000000</td>\n",
       "      <td>198.000000</td>\n",
       "      <td>213.000000</td>\n",
       "      <td>119.000000</td>\n",
       "      <td>1024.000000</td>\n",
       "      <td>...</td>\n",
       "      <td>0.000000</td>\n",
       "      <td>0.000000</td>\n",
       "      <td>0.000000</td>\n",
       "      <td>0.000000</td>\n",
       "      <td>0.000000</td>\n",
       "      <td>0.000000</td>\n",
       "      <td>0.000000</td>\n",
       "      <td>0.000000</td>\n",
       "      <td>0.000000</td>\n",
       "      <td>1.000000</td>\n",
       "    </tr>\n",
       "    <tr>\n",
       "      <th>50%</th>\n",
       "      <td>2996.000000</td>\n",
       "      <td>127.000000</td>\n",
       "      <td>13.000000</td>\n",
       "      <td>218.000000</td>\n",
       "      <td>30.000000</td>\n",
       "      <td>1997.000000</td>\n",
       "      <td>218.000000</td>\n",
       "      <td>226.000000</td>\n",
       "      <td>143.000000</td>\n",
       "      <td>1710.000000</td>\n",
       "      <td>...</td>\n",
       "      <td>0.000000</td>\n",
       "      <td>0.000000</td>\n",
       "      <td>0.000000</td>\n",
       "      <td>0.000000</td>\n",
       "      <td>0.000000</td>\n",
       "      <td>0.000000</td>\n",
       "      <td>0.000000</td>\n",
       "      <td>0.000000</td>\n",
       "      <td>0.000000</td>\n",
       "      <td>2.000000</td>\n",
       "    </tr>\n",
       "    <tr>\n",
       "      <th>75%</th>\n",
       "      <td>3163.000000</td>\n",
       "      <td>260.000000</td>\n",
       "      <td>18.000000</td>\n",
       "      <td>384.000000</td>\n",
       "      <td>69.000000</td>\n",
       "      <td>3328.000000</td>\n",
       "      <td>231.000000</td>\n",
       "      <td>237.000000</td>\n",
       "      <td>168.000000</td>\n",
       "      <td>2550.000000</td>\n",
       "      <td>...</td>\n",
       "      <td>0.000000</td>\n",
       "      <td>0.000000</td>\n",
       "      <td>0.000000</td>\n",
       "      <td>0.000000</td>\n",
       "      <td>0.000000</td>\n",
       "      <td>0.000000</td>\n",
       "      <td>0.000000</td>\n",
       "      <td>0.000000</td>\n",
       "      <td>0.000000</td>\n",
       "      <td>2.000000</td>\n",
       "    </tr>\n",
       "    <tr>\n",
       "      <th>max</th>\n",
       "      <td>3858.000000</td>\n",
       "      <td>360.000000</td>\n",
       "      <td>66.000000</td>\n",
       "      <td>1397.000000</td>\n",
       "      <td>601.000000</td>\n",
       "      <td>7117.000000</td>\n",
       "      <td>254.000000</td>\n",
       "      <td>254.000000</td>\n",
       "      <td>254.000000</td>\n",
       "      <td>7173.000000</td>\n",
       "      <td>...</td>\n",
       "      <td>1.000000</td>\n",
       "      <td>1.000000</td>\n",
       "      <td>1.000000</td>\n",
       "      <td>1.000000</td>\n",
       "      <td>1.000000</td>\n",
       "      <td>1.000000</td>\n",
       "      <td>1.000000</td>\n",
       "      <td>1.000000</td>\n",
       "      <td>1.000000</td>\n",
       "      <td>7.000000</td>\n",
       "    </tr>\n",
       "  </tbody>\n",
       "</table>\n",
       "<p>8 rows × 55 columns</p>\n",
       "</div>"
      ],
      "text/plain": [
       "           Elevation         Aspect          Slope  \\\n",
       "count  581012.000000  581012.000000  581012.000000   \n",
       "mean     2959.365301     155.656807      14.103704   \n",
       "std       279.984734     111.913721       7.488242   \n",
       "min      1859.000000       0.000000       0.000000   \n",
       "25%      2809.000000      58.000000       9.000000   \n",
       "50%      2996.000000     127.000000      13.000000   \n",
       "75%      3163.000000     260.000000      18.000000   \n",
       "max      3858.000000     360.000000      66.000000   \n",
       "\n",
       "       Horizontal_Distance_To_Hydrology  Vertical_Distance_To_Hydrology  \\\n",
       "count                     581012.000000                   581012.000000   \n",
       "mean                         269.428217                       46.418855   \n",
       "std                          212.549356                       58.295232   \n",
       "min                            0.000000                     -173.000000   \n",
       "25%                          108.000000                        7.000000   \n",
       "50%                          218.000000                       30.000000   \n",
       "75%                          384.000000                       69.000000   \n",
       "max                         1397.000000                      601.000000   \n",
       "\n",
       "       Horizontal_Distance_To_Roadways  Hillshade_9am  Hillshade_Noon  \\\n",
       "count                    581012.000000  581012.000000   581012.000000   \n",
       "mean                       2350.146611     212.146049      223.318716   \n",
       "std                        1559.254870      26.769889       19.768697   \n",
       "min                           0.000000       0.000000        0.000000   \n",
       "25%                        1106.000000     198.000000      213.000000   \n",
       "50%                        1997.000000     218.000000      226.000000   \n",
       "75%                        3328.000000     231.000000      237.000000   \n",
       "max                        7117.000000     254.000000      254.000000   \n",
       "\n",
       "       Hillshade_3pm  Horizontal_Distance_To_Fire_Points  ...             45  \\\n",
       "count  581012.000000                       581012.000000  ...  581012.000000   \n",
       "mean      142.528263                         1980.291226  ...       0.090392   \n",
       "std        38.274529                         1324.195210  ...       0.286743   \n",
       "min         0.000000                            0.000000  ...       0.000000   \n",
       "25%       119.000000                         1024.000000  ...       0.000000   \n",
       "50%       143.000000                         1710.000000  ...       0.000000   \n",
       "75%       168.000000                         2550.000000  ...       0.000000   \n",
       "max       254.000000                         7173.000000  ...       1.000000   \n",
       "\n",
       "                  46             47             48             49  \\\n",
       "count  581012.000000  581012.000000  581012.000000  581012.000000   \n",
       "mean        0.077716       0.002773       0.003255       0.000205   \n",
       "std         0.267725       0.052584       0.056957       0.014310   \n",
       "min         0.000000       0.000000       0.000000       0.000000   \n",
       "25%         0.000000       0.000000       0.000000       0.000000   \n",
       "50%         0.000000       0.000000       0.000000       0.000000   \n",
       "75%         0.000000       0.000000       0.000000       0.000000   \n",
       "max         1.000000       1.000000       1.000000       1.000000   \n",
       "\n",
       "                  50             51             52             53  \\\n",
       "count  581012.000000  581012.000000  581012.000000  581012.000000   \n",
       "mean        0.000513       0.026803       0.023762       0.015060   \n",
       "std         0.022641       0.161508       0.152307       0.121791   \n",
       "min         0.000000       0.000000       0.000000       0.000000   \n",
       "25%         0.000000       0.000000       0.000000       0.000000   \n",
       "50%         0.000000       0.000000       0.000000       0.000000   \n",
       "75%         0.000000       0.000000       0.000000       0.000000   \n",
       "max         1.000000       1.000000       1.000000       1.000000   \n",
       "\n",
       "                  54  \n",
       "count  581012.000000  \n",
       "mean        2.051471  \n",
       "std         1.396504  \n",
       "min         1.000000  \n",
       "25%         1.000000  \n",
       "50%         2.000000  \n",
       "75%         2.000000  \n",
       "max         7.000000  \n",
       "\n",
       "[8 rows x 55 columns]"
      ]
     },
     "execution_count": 8,
     "metadata": {},
     "output_type": "execute_result"
    }
   ],
   "source": [
    "data.describe()"
   ]
  },
  {
   "cell_type": "markdown",
   "metadata": {
    "deletable": false,
    "editable": false,
    "nbgrader": {
     "cell_type": "markdown",
     "checksum": "7662568a9cca25e9ff9d8efd17819245",
     "grade": false,
     "grade_id": "cell-5f3eef5fcb8b5cfb",
     "locked": true,
     "schema_version": 3,
     "solution": false
    }
   },
   "source": [
    "From the table above, identify the median and mean for the `Slope` measurements and save the values in variables named `stats_mean_slope` and `stats_median_slope` (two decimals). Obtain the number of records of this relation and save this number in variable named `num_records`.\n",
    "\n",
    "***Hint***: You may need to do a bit of investigation into what the `describe()` function outputs."
   ]
  },
  {
   "cell_type": "code",
   "execution_count": 9,
   "metadata": {
    "deletable": false,
    "nbgrader": {
     "cell_type": "code",
     "checksum": "cb90234f5359b93ec66419699510a7a9",
     "grade": false,
     "grade_id": "cell-dc107b8326d7db9a",
     "locked": false,
     "schema_version": 3,
     "solution": true
    }
   },
   "outputs": [],
   "source": [
    "slope = data.describe()[\"Slope\"]\n",
    "stats_mean_slope = round(slope[\"mean\"], 2)\n",
    "stats_median_slope = slope[\"50%\"]\n",
    "num_records = slope[\"count\"]\n",
    "\n",
    "# YOUR CODE HERE\n",
    "# raise NotImplementedError()"
   ]
  },
  {
   "cell_type": "code",
   "execution_count": 10,
   "metadata": {
    "deletable": false,
    "editable": false,
    "nbgrader": {
     "cell_type": "code",
     "checksum": "79d77a085fed772d59173e69a55b2184",
     "grade": true,
     "grade_id": "cell-f5b94f8a1af750aa",
     "locked": true,
     "points": 4,
     "schema_version": 3,
     "solution": false
    }
   },
   "outputs": [
    {
     "data": {
      "text/html": [
       "\n",
       "        <div class=\"alert alert-box alert-success\">\n",
       "        <h1> <!--{id:\"CORRECTMARK\", marks:\"4\"}--> \n",
       "         ✓ [4 marks] \n",
       "         </h1> </div>"
      ],
      "text/plain": [
       "<IPython.core.display.HTML object>"
      ]
     },
     "metadata": {},
     "output_type": "display_data"
    }
   ],
   "source": [
    "with tick.marks(4):\n",
    "    assert check_hash(stats_mean_slope, ((), 70.5))"
   ]
  },
  {
   "cell_type": "code",
   "execution_count": 11,
   "metadata": {
    "deletable": false,
    "editable": false,
    "nbgrader": {
     "cell_type": "code",
     "checksum": "b5c00641cf9b7358e139324f6c167cc7",
     "grade": true,
     "grade_id": "cell-eecd0ed2c0194f93",
     "locked": true,
     "points": 4,
     "schema_version": 3,
     "solution": false
    }
   },
   "outputs": [
    {
     "data": {
      "text/html": [
       "\n",
       "        <div class=\"alert alert-box alert-success\">\n",
       "        <h1> <!--{id:\"CORRECTMARK\", marks:\"4\"}--> \n",
       "         ✓ [4 marks] \n",
       "         </h1> </div>"
      ],
      "text/plain": [
       "<IPython.core.display.HTML object>"
      ]
     },
     "metadata": {},
     "output_type": "display_data"
    }
   ],
   "source": [
    "with tick.marks(4):\n",
    "    assert check_hash(stats_median_slope, ((), 65.0))"
   ]
  },
  {
   "cell_type": "code",
   "execution_count": 12,
   "metadata": {
    "deletable": false,
    "editable": false,
    "nbgrader": {
     "cell_type": "code",
     "checksum": "b8c28853f22746027b8ff5cbe3cc82d7",
     "grade": true,
     "grade_id": "cell-e077abe09d464c9e",
     "locked": true,
     "points": 4,
     "schema_version": 3,
     "solution": false,
     "task": false
    }
   },
   "outputs": [
    {
     "data": {
      "text/html": [
       "\n",
       "        <div class=\"alert alert-box alert-success\">\n",
       "        <h1> <!--{id:\"CORRECTMARK\", marks:\"4\"}--> \n",
       "         ✓ [4 marks] \n",
       "         </h1> </div>"
      ],
      "text/plain": [
       "<IPython.core.display.HTML object>"
      ]
     },
     "metadata": {},
     "output_type": "display_data"
    }
   ],
   "source": [
    "with tick.marks(4):\n",
    "    assert check_hash(num_records, ((), 2905060.0))"
   ]
  },
  {
   "cell_type": "markdown",
   "metadata": {
    "deletable": false,
    "editable": false,
    "nbgrader": {
     "cell_type": "markdown",
     "checksum": "043ac4d24caeb5501c7896041fdee76c",
     "grade": false,
     "grade_id": "cell-dbfcdcc456dc72f4",
     "locked": true,
     "schema_version": 3,
     "solution": false,
     "task": false
    }
   },
   "source": [
    "### Task A.2 Dump to Blocks on Disk\n",
    "\n",
    "Consider this relation **C** with its primary key being the the index of DataFrame `data` and other 11 colums.\n",
    "Assume in  **C**, the primary key  is a 32-bit integer, and other 11 colums are 8-byte floats. We will store this relation in a file on disk organised in 4096-byte blocks, with each block having a 10-byte header. Note that the database system adopts fixed-length records $-$ i.e., each file record corresponds to one tuple of the relation and vice versa.\n",
    "\n",
    "(1) Compute the blocking factor, and store this in variable `records_per_block`.\n",
    "\n",
    "(2) Compute the number of blocks required to store this relation, and store the result in variable `num_blocks`."
   ]
  },
  {
   "cell_type": "code",
   "execution_count": 13,
   "metadata": {
    "deletable": false,
    "nbgrader": {
     "cell_type": "code",
     "checksum": "c8efc2139b0abe36bbbc1ad4aa0880eb",
     "grade": false,
     "grade_id": "cell-a4f0caa509337952",
     "locked": false,
     "schema_version": 3,
     "solution": true,
     "task": false
    }
   },
   "outputs": [
    {
     "name": "stdout",
     "output_type": "stream",
     "text": [
      "44\n",
      "13205\n"
     ]
    }
   ],
   "source": [
    "import math\n",
    "size_per_block = 4096\n",
    "size_per_record = 32/8 + 8*11\n",
    "header_block = 10\n",
    "records_per_block = int((size_per_block - header_block) / size_per_record)\n",
    "print(records_per_block)\n",
    "num_blocks = math.ceil(data.shape[0] / records_per_block)\n",
    "print(num_blocks)\n",
    "\n",
    "# YOUR CODE HERE\n",
    "# raise NotImplementedError()"
   ]
  },
  {
   "cell_type": "code",
   "execution_count": null,
   "metadata": {
    "deletable": false,
    "editable": false,
    "nbgrader": {
     "cell_type": "code",
     "checksum": "470d381c6ad35e58591e0367deaada8f",
     "grade": true,
     "grade_id": "cell-2cca48f8de60c7e6",
     "locked": true,
     "points": 4,
     "schema_version": 3,
     "solution": false,
     "task": false
    }
   },
   "outputs": [],
   "source": []
  },
  {
   "cell_type": "code",
   "execution_count": null,
   "metadata": {
    "deletable": false,
    "editable": false,
    "nbgrader": {
     "cell_type": "code",
     "checksum": "38e38f766cf1bb858488bc9e4a99a124",
     "grade": true,
     "grade_id": "cell-43e527ebbb1caab7",
     "locked": true,
     "points": 4,
     "schema_version": 3,
     "solution": false,
     "task": false
    }
   },
   "outputs": [],
   "source": []
  },
  {
   "cell_type": "markdown",
   "metadata": {
    "deletable": false,
    "editable": false,
    "nbgrader": {
     "cell_type": "markdown",
     "checksum": "bd6061e7c76edffa6b4a7922102ee5c2",
     "grade": false,
     "grade_id": "cell-908eaac46ef60abd",
     "locked": true,
     "schema_version": 3,
     "solution": false,
     "task": false
    }
   },
   "source": [
    "---"
   ]
  },
  {
   "cell_type": "markdown",
   "metadata": {
    "deletable": false,
    "editable": false,
    "nbgrader": {
     "cell_type": "markdown",
     "checksum": "0d1b6760fd246951cc2aef9c3256bc9d",
     "grade": false,
     "grade_id": "cell-af079852864a0ac0",
     "locked": true,
     "schema_version": 3,
     "solution": false,
     "task": false
    }
   },
   "source": [
    "## Task B: Compressing data by PCA"
   ]
  },
  {
   "cell_type": "markdown",
   "metadata": {
    "deletable": false,
    "editable": false,
    "nbgrader": {
     "cell_type": "markdown",
     "checksum": "d0bcfd7b29c1985e7b91ed3690f27eea",
     "grade": false,
     "grade_id": "cell-c47ea585c2281e6f",
     "locked": true,
     "schema_version": 3,
     "solution": false
    }
   },
   "source": [
    "----"
   ]
  },
  {
   "cell_type": "markdown",
   "metadata": {
    "deletable": false,
    "editable": false,
    "nbgrader": {
     "cell_type": "markdown",
     "checksum": "ca3eb76fe7bb84feb451fb55ac76a6a9",
     "grade": false,
     "grade_id": "cell-26397e6d82858b52",
     "locked": true,
     "schema_version": 3,
     "solution": false
    }
   },
   "source": [
    "### Task B.1 Dataset Compression \n",
    "\n",
    "\n",
    "It is speculated that the first **11 columns** can be represented in a low dimensional space without too much loss of information.\n",
    " \n",
    "1) Extract the relevant data in a separate numpy array (do not modify the DataFrame itself). Normalise the data by its norm of 11 columns and store it in `normalised_data`. **Hint**: you can use `np.linalg.norm` to normalise the data.\n",
    "\n",
    "2) Compute the PCA (use `np.linalg.eig`) on `normalised_data` and determine the minimum number of components required to preserve 80% of variance. Save the number of components in `n_components` (i.e. an integer). The relative contribution from one principle component is measured as $\\frac{\\lambda_i}{\\sum_{j=1}^J \\lambda_j}$ where $\\lambda$ is the eigenvalue for that component and $J$ is the number of eigenvalues.  \n",
    "\n",
    "3) Provide the \"compressed\" version of the data in `data_lowd` with dimension (581012, n_components).\n",
    "\n",
    "\n",
    "***Note:*** There are no visible tests in this part as we expect you will be able to solve this given the knowledge you have acquired in earlier labs.\n",
    "\n",
    "**Hint:** Use `np.cov` before you do PCA."
   ]
  },
  {
   "cell_type": "code",
   "execution_count": 14,
   "metadata": {
    "deletable": false,
    "nbgrader": {
     "cell_type": "code",
     "checksum": "6a99d9c07b277e6dcef658ec2917e820",
     "grade": false,
     "grade_id": "cell-f647e4f17efcdbdb",
     "locked": false,
     "schema_version": 3,
     "solution": true,
     "task": false
    }
   },
   "outputs": [],
   "source": [
    "data_11 = np.array(data.iloc[:, :11])\n",
    "normalised_data = data_11 / np.linalg.norm(data_11)\n",
    "\n",
    "data_11_cov = np.cov(normalised_data, rowvar = False)\n",
    "eigvalues, eigvectors = np.linalg.eig(data_11_cov)\n",
    "des_index = np.argsort(eigvalues)[::-1]\n",
    "des_eigvalues = eigvalues[des_index]\n",
    "percent_var = 0\n",
    "for i, value in zip(range(11), des_eigvalues):\n",
    "  n_components = i\n",
    "  if np.sum(des_eigvalues[:i]) / np.sum(des_eigvalues) > 0.8:\n",
    "    break\n",
    "# print(n_components)\n",
    "# print(des_index[:n_components])\n",
    "data_lowd = data_11[:, des_index[:n_components]]\n",
    "\n",
    "# YOUR CODE HERE\n",
    "# raise NotImplementedError()"
   ]
  },
  {
   "cell_type": "code",
   "execution_count": 15,
   "metadata": {
    "deletable": false,
    "editable": false,
    "nbgrader": {
     "cell_type": "code",
     "checksum": "277abd58de0d9eb2003e62f1906eff64",
     "grade": true,
     "grade_id": "cell-dacf1a3c11985c9b",
     "locked": true,
     "points": 4,
     "schema_version": 3,
     "solution": false,
     "task": false
    }
   },
   "outputs": [
    {
     "data": {
      "text/html": [
       "\n",
       "        <div class=\"alert alert-box alert-success\">\n",
       "        <h1> <!--{id:\"CORRECTMARK\", marks:\"4\"}--> \n",
       "         ✓ [4 marks] \n",
       "         </h1> </div>"
      ],
      "text/plain": [
       "<IPython.core.display.HTML object>"
      ]
     },
     "metadata": {},
     "output_type": "display_data"
    }
   ],
   "source": [
    "with tick.marks(4):\n",
    "    assert check_hash(normalised_data, ((581012, 11), 3978617321.3146486))"
   ]
  },
  {
   "cell_type": "code",
   "execution_count": 16,
   "metadata": {
    "deletable": false,
    "editable": false,
    "nbgrader": {
     "cell_type": "code",
     "checksum": "bfdf0ae984d3e93d606094bbebfcdffe",
     "grade": true,
     "grade_id": "cell-bf4be6b5bdb912a1",
     "locked": true,
     "points": 4,
     "schema_version": 3,
     "solution": false
    }
   },
   "outputs": [
    {
     "data": {
      "text/html": [
       "\n",
       "        <div class=\"alert alert-box alert-success\">\n",
       "        <h1> <!--{id:\"CORRECTMARK\", marks:\"4\"}--> \n",
       "         ✓ [4 marks] \n",
       "         </h1> </div>"
      ],
      "text/plain": [
       "<IPython.core.display.HTML object>"
      ]
     },
     "metadata": {},
     "output_type": "display_data"
    }
   ],
   "source": [
    "with tick.marks(4):\n",
    "    assert check_hash(n_components * 546.345, ((), 5463.450000000001))"
   ]
  },
  {
   "cell_type": "code",
   "execution_count": 17,
   "metadata": {
    "deletable": false,
    "editable": false,
    "nbgrader": {
     "cell_type": "code",
     "checksum": "73b7866e06ff6a88360664e385634d7a",
     "grade": true,
     "grade_id": "cell-cca3e430deccec88",
     "locked": true,
     "points": 10,
     "schema_version": 3,
     "solution": false
    }
   },
   "outputs": [],
   "source": [
    "### Hidden test checking data_lowd of shape (581012, n_components) [10 marks]"
   ]
  },
  {
   "cell_type": "markdown",
   "metadata": {
    "deletable": false,
    "editable": false,
    "nbgrader": {
     "cell_type": "markdown",
     "checksum": "21478818ef0a0b22b237266bd551fceb",
     "grade": false,
     "grade_id": "cell-12db13c3d044819d",
     "locked": true,
     "schema_version": 3,
     "solution": false,
     "task": false
    }
   },
   "source": [
    "### Task B.2 Store this compressed relation into block files of disk\n",
    "Now you will reuse the same relation system setting to Task A.2, and store this compressed data into relation **compressed_C**  --- i.e. use the index of `data_lowd` as primary key (a 32-bit integer), and other key components are 8-byte floats:\n",
    "\n",
    "(1) Compute the blocking factor, and store this in variable `compressed_records_per_block`.\n",
    "\n",
    "(2) Compute the number of blocks required to store this relation, and store the result in variable `compressed_num_blocks`.\n",
    "\n",
    "(3) Compute the compress ratio of pysical space between the original relation **C** and the compressed relation **compressed_C**, and store the result into ratio `compress_ratio` (with two decimals)."
   ]
  },
  {
   "cell_type": "code",
   "execution_count": 18,
   "metadata": {
    "deletable": false,
    "nbgrader": {
     "cell_type": "code",
     "checksum": "e085fb029aaf986eb9c78e5f1cfc9089",
     "grade": false,
     "grade_id": "cell-6c27ed00728bc60b",
     "locked": false,
     "schema_version": 3,
     "solution": true,
     "task": false
    }
   },
   "outputs": [
    {
     "name": "stdout",
     "output_type": "stream",
     "text": [
      "204\n",
      "2849\n",
      "0.22\n"
     ]
    }
   ],
   "source": [
    "size_per_compressed_record = 32/8 + 8*n_components\n",
    "compressed_records_per_block = int((size_per_block - header_block) / size_per_compressed_record)\n",
    "print(compressed_records_per_block)\n",
    "\n",
    "compressed_num_blocks = math.ceil(data_lowd.shape[0] / compressed_records_per_block)\n",
    "print(compressed_num_blocks)\n",
    "\n",
    "compress_ratio = round(compressed_num_blocks/num_blocks, 2)\n",
    "print(compress_ratio)\n",
    "\n",
    "# YOUR CODE HERE\n",
    "# raise NotImplementedError()"
   ]
  },
  {
   "cell_type": "code",
   "execution_count": 19,
   "metadata": {
    "deletable": false,
    "editable": false,
    "nbgrader": {
     "cell_type": "code",
     "checksum": "c18bbb970ef35f4d04c25d88a2c323e1",
     "grade": true,
     "grade_id": "cell-828ff5baead712ec",
     "locked": true,
     "points": 4,
     "schema_version": 3,
     "solution": false,
     "task": false
    }
   },
   "outputs": [
    {
     "data": {
      "text/html": [
       "\n",
       "        <div class=\"alert alert-box alert-success\">\n",
       "        <h1> <!--{id:\"CORRECTMARK\", marks:\"4\"}--> \n",
       "         ✓ [4 marks] \n",
       "         </h1> </div>"
      ],
      "text/plain": [
       "<IPython.core.display.HTML object>"
      ]
     },
     "metadata": {},
     "output_type": "display_data"
    }
   ],
   "source": [
    "with tick.marks(4):\n",
    "    assert check_hash(compressed_records_per_block, ((), 1020.0))  \n",
    "    "
   ]
  },
  {
   "cell_type": "code",
   "execution_count": 20,
   "metadata": {
    "deletable": false,
    "editable": false,
    "nbgrader": {
     "cell_type": "code",
     "checksum": "12eafea8e3615dfa0e8105e908974983",
     "grade": true,
     "grade_id": "cell-db202cd5348e788f",
     "locked": true,
     "points": 4,
     "schema_version": 3,
     "solution": false,
     "task": false
    }
   },
   "outputs": [
    {
     "data": {
      "text/html": [
       "\n",
       "        <div class=\"alert alert-box alert-success\">\n",
       "        <h1> <!--{id:\"CORRECTMARK\", marks:\"4\"}--> \n",
       "         ✓ [4 marks] \n",
       "         </h1> </div>"
      ],
      "text/plain": [
       "<IPython.core.display.HTML object>"
      ]
     },
     "metadata": {},
     "output_type": "display_data"
    }
   ],
   "source": [
    "with tick.marks(4):\n",
    "    assert check_hash(compressed_num_blocks, ((), 14245.0))  "
   ]
  },
  {
   "cell_type": "code",
   "execution_count": 21,
   "metadata": {
    "deletable": false,
    "editable": false,
    "nbgrader": {
     "cell_type": "code",
     "checksum": "b67b1f4fb152198e2f90edded706dc28",
     "grade": true,
     "grade_id": "cell-dc06547a76689faf",
     "locked": true,
     "points": 4,
     "schema_version": 3,
     "solution": false,
     "task": false
    }
   },
   "outputs": [
    {
     "data": {
      "text/html": [
       "\n",
       "        <div class=\"alert alert-box alert-success\">\n",
       "        <h1> <!--{id:\"CORRECTMARK\", marks:\"4\"}--> \n",
       "         ✓ [4 marks] \n",
       "         </h1> </div>"
      ],
      "text/plain": [
       "<IPython.core.display.HTML object>"
      ]
     },
     "metadata": {},
     "output_type": "display_data"
    }
   ],
   "source": [
    "with tick.marks(4):\n",
    "    assert check_hash(compress_ratio, ((), 1.1)) "
   ]
  },
  {
   "cell_type": "markdown",
   "metadata": {
    "deletable": false,
    "editable": false,
    "nbgrader": {
     "cell_type": "markdown",
     "checksum": "23a5623930793187cdd38eab84b49058",
     "grade": false,
     "grade_id": "cell-cc8c022ff687e8f2",
     "locked": true,
     "schema_version": 3,
     "solution": false,
     "task": false
    },
    "tags": []
   },
   "source": [
    "> Now you can take a rest here until you finish lecture 10 - query processing "
   ]
  },
  {
   "cell_type": "markdown",
   "metadata": {
    "deletable": false,
    "editable": false,
    "nbgrader": {
     "cell_type": "markdown",
     "checksum": "3b52fa25c9af03c7783c793bc0e497fc",
     "grade": false,
     "grade_id": "cell-e54fed29e41153c7",
     "locked": true,
     "schema_version": 3,
     "solution": false,
     "task": false
    }
   },
   "source": [
    "---"
   ]
  },
  {
   "cell_type": "markdown",
   "metadata": {
    "deletable": false,
    "editable": false,
    "nbgrader": {
     "cell_type": "markdown",
     "checksum": "6e63cf31ac0f77eee0e60247ded888e6",
     "grade": false,
     "grade_id": "cell-c3d9c27382f4a314",
     "locked": true,
     "schema_version": 3,
     "solution": false,
     "task": false
    }
   },
   "source": [
    "## Task C: Query performance estimation\n",
    "\n",
    "Now the system admins add a new column (i.e. `Soil_type` , which can be obtained from the raw **CoverType** dataset) to relation **C** for connecting another relation. Then the new relation **C** will contain 13 columns, which include the previous 11 coulmns, the index column and the `Soil_type` column. The new `Soil_type` column will use a 32-bit integer type.\n",
    "\n",
    "Based on the same calculation of Task A.2, we can know that it ocuppies $n_C=13834$ blocks (please calculate and verify this by yourself), organised in a sequential file and ordered by the index column.\n",
    "\n",
    "Then system admins want to join some external columns about the soil feature from another external relation, namely the Soil Relation **S** (**Soil_Type**, color, texture, structure, porosity, density), where each column is a 8-byte float (except Soil_Type which is 4-byte). **S** has $r_S = 1200$ records and its file blocks are organised sequential file, ordered by Soil_Type.\n",
    "\n",
    "Further assume that the memory of the database system can accommodate $n_B = 22$ blocks for processing. \n",
    "\n",
    "(1) Calculate the blocking factor for the join-results block, and store it in variable `rs_records_per_block`.\n",
    "\n",
    "(2) Last, assume we execute the following equi-join query:\n",
    "\n",
    "```sql\n",
    "        SELECT * FROM C,S\n",
    "          WHERE C.Soil_type = S.Soil_type\n",
    "```\n",
    "Find the most efficient join strategy in this case and estimate its total expected cost (in number of block accesses, stored in variable `best_num_join_blocks`). \n",
    "\n",
    "**Hint:** don't forget the 10-byte header of each block. **C** is ordered by the index column, rather than the Soil_Type column."
   ]
  },
  {
   "cell_type": "code",
   "execution_count": 22,
   "metadata": {
    "deletable": false,
    "nbgrader": {
     "cell_type": "code",
     "checksum": "06a9026da53cff6d19fcd28298a3eaa0",
     "grade": false,
     "grade_id": "cell-019338f05eb8987b",
     "locked": false,
     "schema_version": 3,
     "solution": true,
     "task": false
    }
   },
   "outputs": [
    {
     "name": "stdout",
     "output_type": "stream",
     "text": [
      "new_records_per_block: 42\n",
      "new_num_blocks: 13834\n",
      "s_records_per_block: 92\n",
      "s_num_blocks: 14\n",
      "rs_records_per_block: 30\n",
      "rs_num_blocks: 19368\n",
      "13848\n"
     ]
    }
   ],
   "source": [
    "# Relation new C\n",
    "size_per_new_record = 32/8 * 2 + 8*11\n",
    "new_records_per_block = int((size_per_block - header_block)/size_per_new_record)\n",
    "print(f\"new_records_per_block: {new_records_per_block}\")\n",
    "new_num_blocks = math.ceil(data_11.shape[0] / new_records_per_block)\n",
    "print(f\"new_num_blocks: {new_num_blocks}\")\n",
    "\n",
    "# Relation S\n",
    "s_num_records = 1200\n",
    "size_per_s_record = 4 + 8*5\n",
    "s_records_per_block = int((size_per_block - header_block)/size_per_s_record)\n",
    "print(f\"s_records_per_block: {s_records_per_block}\")\n",
    "s_num_blocks = math.ceil(s_num_records/s_records_per_block)\n",
    "print(f\"s_num_blocks: {s_num_blocks}\")\n",
    "\n",
    "# Join-results\n",
    "rs_num_records = data_11.shape[0]\n",
    "size_per_rs_record = size_per_new_record + 8*5\n",
    "rs_records_per_block = int((size_per_block - header_block)/size_per_rs_record)\n",
    "print(f\"rs_records_per_block: {rs_records_per_block}\")\n",
    "rs_num_blocks = math.ceil(rs_num_records/rs_records_per_block)\n",
    "print(f\"rs_num_blocks: {rs_num_blocks}\")\n",
    "\n",
    "memory = 22\n",
    "# outer relation S, inner relation new C\n",
    "# number of block accesses\n",
    "best_num_join_blocks = s_num_blocks +  new_num_blocks*math.ceil(s_num_blocks/(memory - 2)) # memory excluding one is for reading the inner relation; the other is for writing the join result\n",
    "print(best_num_join_blocks)\n",
    "\n",
    "# YOUR CODE HERE\n",
    "# raise NotImplementedError()"
   ]
  },
  {
   "cell_type": "code",
   "execution_count": null,
   "metadata": {
    "deletable": false,
    "editable": false,
    "nbgrader": {
     "cell_type": "code",
     "checksum": "1138e0deeeef747376ae5786f640e1da",
     "grade": true,
     "grade_id": "cell-9c8ba4223a8c9475",
     "locked": true,
     "points": 5,
     "schema_version": 3,
     "solution": false,
     "task": false
    }
   },
   "outputs": [],
   "source": []
  },
  {
   "cell_type": "code",
   "execution_count": null,
   "metadata": {
    "deletable": false,
    "editable": false,
    "nbgrader": {
     "cell_type": "code",
     "checksum": "fb11351d59c56573596a2a601b871be8",
     "grade": true,
     "grade_id": "cell-f26a887b918b7f78",
     "locked": true,
     "points": 10,
     "schema_version": 3,
     "solution": false,
     "task": false
    }
   },
   "outputs": [],
   "source": []
  },
  {
   "cell_type": "markdown",
   "metadata": {
    "deletable": false,
    "editable": false,
    "nbgrader": {
     "cell_type": "markdown",
     "checksum": "a0612372703154bfb9d8ad59f4cb8982",
     "grade": false,
     "grade_id": "cell-7026d300a1b77df5",
     "locked": true,
     "schema_version": 3,
     "solution": false
    }
   },
   "source": [
    "## Task D: Cardinality of the result set"
   ]
  },
  {
   "cell_type": "markdown",
   "metadata": {
    "deletable": false,
    "editable": false,
    "nbgrader": {
     "cell_type": "markdown",
     "checksum": "ba5d216c42ebfcc1bf439ad812458e46",
     "grade": false,
     "grade_id": "cell-782a00751d0ff95e",
     "locked": true,
     "schema_version": 3,
     "solution": false
    }
   },
   "source": [
    "### Task D.1 Queries\n",
    "The database team is interested in optimising the performance of the system when querying the DataFrame. To test the performance, queries are assumed to relate only to the `Elevation` column and are specified as an interval. For example, a query [2500,2061] would return all entries where the Elevation is between 2500 and 2061.\n",
    "\n",
    "The actual query which is executed by the Pandas is then specified as $[a,b]$ or $[c-s/2, c+s/2]$. A couple of probability density functions have been formulated and believed to generate a set of realistic queries. \n",
    "\n",
    "The $c$ value, or the center of the interval, is sampled according to the following probability density function:\n",
    "\n",
    "$$p(c) = 0.4\\cdot Normal(\\,c\\,|\\,2600,60) + 0.5\\cdot Normal(\\,c\\,|\\,3000,90) + 0.1\\cdot Normal(\\,c\\,|\\,3300,70)\\,\\,\\,\\,\\,\\,\\,\\,\\, (Eq. 1)$$  \n",
    "\n",
    "Thus $p(c)$ is made up of three so-called components with each component being a Normal distribution parameterised by the mean and standard deviation.\n",
    "\n",
    "The $s$ (the size of the interval) is sampled according to the following probability density function:\n",
    "\n",
    "$$p(s) = \\Gamma(s|8,25)\\,\\,\\,\\,\\,\\,\\,\\,\\,  (Eq. 2)$$\n",
    "\n",
    "where the parameters are the shape and scale, respectively. Gamma ($\\Gamma$) is a special probability distribution which you should lookup.\n",
    "\n",
    "***Note:*** There is not a specific question here - you just have to examine the equations and the various distributions.\n"
   ]
  },
  {
   "cell_type": "markdown",
   "metadata": {
    "deletable": false,
    "editable": false,
    "nbgrader": {
     "cell_type": "markdown",
     "checksum": "dc602048b7b6a7c1da1da0c43b1a2f93",
     "grade": false,
     "grade_id": "cell-912c3a82a980cf55",
     "locked": true,
     "schema_version": 3,
     "solution": false
    }
   },
   "source": [
    "### Task D.2 Sample a set of queries\n",
    "You must now complete a function which can sample 2000 queries from the query distribution defined by Eq. (1) and Eq. (2).\n",
    "\n",
    "Save the queries $[c,s]$ as rows in `X` (i.e. `X` should be of size (2000,2) ).\n",
    "\n",
    "***Hint***: You are looking to sample from these distribution; not compute the density (i.e. you should not implement the equations per se). For $p(c)$, first sample a component with the given probability, then sample from that component. \n"
   ]
  },
  {
   "cell_type": "code",
   "execution_count": 23,
   "metadata": {
    "deletable": false,
    "nbgrader": {
     "cell_type": "code",
     "checksum": "13db71ff716c5ec958f36d50aa090210",
     "grade": false,
     "grade_id": "cell-0995055f41f0bbb7",
     "locked": false,
     "schema_version": 3,
     "solution": true
    }
   },
   "outputs": [],
   "source": [
    "def sample_queries(N=2000):\n",
    "    ### BEGIN SOLUTION\n",
    "    X = np.zeros((N, 2))\n",
    "    mm = [2600, 3000, 3300]\n",
    "    ss = [60, 90, 70]\n",
    "    for n in range(0, N):\n",
    "        # comp = np.random.randint(3)\n",
    "        comp = np.random.choice(3, p=[0.4, 0.5, 0.1])\n",
    "        X[n, 0] = np.random.normal(mm[comp], ss[comp])  # c\n",
    "        X[n, 1] = np.random.gamma(8, 25)  # s\n",
    "        # X[n, 1] = scipy.stats.gamma.rvs(8, scale=25)\n",
    "    ### END SOLUTION\n",
    "\n",
    "    # YOUR CODE HERE\n",
    "    # raise NotImplementedError()\n",
    "    return X"
   ]
  },
  {
   "cell_type": "markdown",
   "metadata": {
    "deletable": false,
    "editable": false,
    "nbgrader": {
     "cell_type": "markdown",
     "checksum": "69d130796b8e66070cccae6548e2e2f0",
     "grade": false,
     "grade_id": "cell-e14d90bc63634f41",
     "locked": true,
     "schema_version": 3,
     "solution": false,
     "task": false
    }
   },
   "source": [
    "Let's sample..."
   ]
  },
  {
   "cell_type": "code",
   "execution_count": 24,
   "metadata": {
    "deletable": false,
    "editable": false,
    "nbgrader": {
     "cell_type": "code",
     "checksum": "a55b46c2077c37b3519b677366fd57cb",
     "grade": false,
     "grade_id": "cell-9ed53d02fff7524f",
     "locked": true,
     "schema_version": 3,
     "solution": false,
     "task": false
    }
   },
   "outputs": [
    {
     "data": {
      "text/plain": [
       "<matplotlib.legend.Legend at 0x2228e6b5630>"
      ]
     },
     "execution_count": 24,
     "metadata": {},
     "output_type": "execute_result"
    },
    {
     "data": {
      "image/png": "[encoded data removed]",
      "text/plain": [
       "<Figure size 700x700 with 1 Axes>"
      ]
     },
     "metadata": {},
     "output_type": "display_data"
    }
   ],
   "source": [
    "np.random.seed(42)  # you may want to provide a seed to consistent results\n",
    "X = sample_queries(N=2000)\n",
    "\n",
    "fig = plt.figure(figsize=(5, 5))\n",
    "ax = fig.add_subplot(1, 1, 1)\n",
    "ax.hist(X[:, 0])\n",
    "ax.hist(X[:, 1])\n",
    "ax.legend((\"c\", \"s\"))"
   ]
  },
  {
   "cell_type": "code",
   "execution_count": 25,
   "metadata": {
    "deletable": false,
    "editable": false,
    "nbgrader": {
     "cell_type": "code",
     "checksum": "cadb611a28e8b97b55ab2de1903fab00",
     "grade": true,
     "grade_id": "cell-c2b003e75613cab7",
     "locked": true,
     "points": 0,
     "schema_version": 3,
     "solution": false,
     "task": false
    }
   },
   "outputs": [
    {
     "data": {
      "text/html": [
       "\n",
       "        <div class=\"alert alert-box alert-success\">\n",
       "        <h1> <!--{id:\"CORRECTMARK\", marks:\"0\"}--> \n",
       "         ✓ [0 marks] \n",
       "         </h1> </div>"
      ],
      "text/plain": [
       "<IPython.core.display.HTML object>"
      ]
     },
     "metadata": {},
     "output_type": "display_data"
    }
   ],
   "source": [
    "# Note this test only ensure that you you have sensible sampler\n",
    "# - it is not absolute evidence\n",
    "# that your sampler is exactly as specified (you should make\n",
    "# extra sure to test your implementation)\n",
    "#\n",
    "# You sampler will be checked manually when marking against a more\n",
    "# extentive test and you marks are thus tentative!\n",
    "#\n",
    "\n",
    "with tick.marks(0):\n",
    "    query_function_is_likely_correct = False\n",
    "    for irep in range(0, 10):  # repeat a few times to make it wasn't a lucky run\n",
    "        for n in [100000]:\n",
    "            samples = sample_queries(n)\n",
    "            assert samples.shape == (n, 2)\n",
    "            assert np.min(samples[:, 0]) > 0\n",
    "            assert np.min(samples[:, 1]) > 0\n",
    "            qc = np.quantile(samples[:, 0], np.linspace(0.1, 0.95, 10))\n",
    "            qs = np.quantile(samples[:, 1], np.linspace(0.1, 0.95, 10))\n",
    "            qc_true = np.array(\n",
    "                [\n",
    "                    2559.81294538,\n",
    "                    2598.13385305,\n",
    "                    2635.78435576,\n",
    "                    2701.46328125,\n",
    "                    2906.86488528,\n",
    "                    2962.39459602,\n",
    "                    3006.37913367,\n",
    "                    3051.42630076,\n",
    "                    3119.26061183,\n",
    "                    3300.0165527,\n",
    "                ]\n",
    "            )\n",
    "            qs_true = np.array(\n",
    "                [\n",
    "                    116.1991005,\n",
    "                    137.92636883,\n",
    "                    155.6764329,\n",
    "                    171.72291999,\n",
    "                    187.65768372,\n",
    "                    204.21707941,\n",
    "                    222.46446212,\n",
    "                    244.37819637,\n",
    "                    274.05809583,\n",
    "                    328.05806855,\n",
    "                ]\n",
    "            )\n",
    "            assert np.all(np.abs(qc_true - qc) < 25)\n",
    "            assert np.all(np.abs(qs_true - qs) < 10)\n",
    "\n",
    "    query_function_is_likely_correct = True"
   ]
  },
  {
   "cell_type": "code",
   "execution_count": null,
   "metadata": {
    "deletable": false,
    "editable": false,
    "nbgrader": {
     "cell_type": "code",
     "checksum": "c658adf7360e63c32965f04e1ca70a54",
     "grade": true,
     "grade_id": "cell-a4fc0cc3171210a4",
     "locked": true,
     "points": 5,
     "schema_version": 3,
     "solution": false
    }
   },
   "outputs": [],
   "source": []
  },
  {
   "cell_type": "markdown",
   "metadata": {
    "deletable": false,
    "editable": false,
    "nbgrader": {
     "cell_type": "markdown",
     "checksum": "347787ed81c4ff2e0d53e75acf49d36d",
     "grade": false,
     "grade_id": "cell-b3aabd98565b0c75",
     "locked": true,
     "schema_version": 3,
     "solution": false
    }
   },
   "source": [
    "### Task D.3 Execute a single query \n",
    "You must now complete a function which can execute a single query based on the start and end points of the interval, [a,b], on the database (i.e. the previous Pandas DataFrame stored in the variable  `data`).\n",
    "\n",
    "The function must return:\n",
    "- the time taken in seconds (already provided), t\n",
    "- the cardinality of the result set, n\n",
    "- the result set, i.e. all rows where $a \\leq Elevation \\leq b$\n",
    "\n",
    "***Hint***: You may need to consult the documentation for Pandas to find a suitable command."
   ]
  },
  {
   "cell_type": "code",
   "execution_count": 26,
   "metadata": {
    "deletable": false,
    "nbgrader": {
     "cell_type": "code",
     "checksum": "27b65b022554355e96e84aa159580e30",
     "grade": false,
     "grade_id": "cell-931efd92fa66bb67",
     "locked": false,
     "schema_version": 3,
     "solution": true
    }
   },
   "outputs": [],
   "source": [
    "def query(a, b):\n",
    "    tic = timeit.default_timer()\n",
    "    # YOUR CODE HERE\n",
    "    # raise NotImplementedError()\n",
    "\n",
    "    res = data.query(\"(Elevation >= @a) & (Elevation <= @b)\")\n",
    "    n = res.shape[0]\n",
    "\n",
    "    toc = timeit.default_timer()\n",
    "    t = toc - tic\n",
    "    return t, n, res"
   ]
  },
  {
   "cell_type": "code",
   "execution_count": 27,
   "metadata": {
    "deletable": false,
    "editable": false,
    "nbgrader": {
     "cell_type": "code",
     "checksum": "413f0b6baa4e177937e3ed6cc7e27693",
     "grade": true,
     "grade_id": "cell-6bd97db3ea240b1b",
     "locked": true,
     "points": 5,
     "schema_version": 3,
     "solution": false
    }
   },
   "outputs": [
    {
     "data": {
      "text/html": [
       "\n",
       "        <div class=\"alert alert-box alert-success\">\n",
       "        <h1> <!--{id:\"CORRECTMARK\", marks:\"5\"}--> \n",
       "         ✓ [5 marks] \n",
       "         </h1> </div>"
      ],
      "text/plain": [
       "<IPython.core.display.HTML object>"
      ]
     },
     "metadata": {},
     "output_type": "display_data"
    }
   ],
   "source": [
    "with tick.marks(5):\n",
    "    query_function_is_correct = False\n",
    "    t, n, res = query(2967.0, 2967.5)\n",
    "    z = np.sum(res[\"Aspect\"].to_numpy())\n",
    "    #assert n == 762\n",
    "    assert check_hash(n, ((), 3810.0))\n",
    "    #assert z == 121183\n",
    "    assert check_hash(z, ((), 605915.0))\n",
    "    query_function_is_correct = True\n"
   ]
  },
  {
   "cell_type": "markdown",
   "metadata": {
    "deletable": false,
    "editable": false,
    "nbgrader": {
     "cell_type": "markdown",
     "checksum": "43bc393931f86912754133b3bdb0c6a8",
     "grade": false,
     "grade_id": "cell-4c8c28d4cf0c6b0c",
     "locked": true,
     "schema_version": 3,
     "solution": false
    }
   },
   "source": [
    "### Task D.4 Execute and time all queries\n",
    "\n",
    "You should now execute all the queries in `X` against the database by calling the function `query`. Queries should be read from the `X` array previously generated.\n",
    "\n",
    "The resulting data should be collected in two numpy arrays:\n",
    "\n",
    "- `y_times` with shape (2000,1) holding the times measured for each query\n",
    "- `y_cardinality` with shape (2000,1) holding the size of the result set for each query\n"
   ]
  },
  {
   "cell_type": "code",
   "execution_count": 28,
   "metadata": {
    "deletable": false,
    "nbgrader": {
     "cell_type": "code",
     "checksum": "18905e87d1f25dc07cee9ee162f09b6e",
     "grade": false,
     "grade_id": "cell-b13bb6f2780234a1",
     "locked": false,
     "schema_version": 3,
     "solution": true
    }
   },
   "outputs": [],
   "source": [
    "N = np.shape(X)[0]\n",
    "y_times = np.zeros((N, 1))\n",
    "y_cardinality = np.zeros((N, 1))\n",
    "\n",
    "# Hint remember that you need to pass a and b to query (not c and s)\n",
    "for i, x in zip(range(X.shape[0]), X):\n",
    "  y_times[i], y_cardinality[i], _ = query(x[0] - x[1]/2., x[0] + x[1]/2.)\n",
    "  \n",
    "# YOUR CODE HERE\n",
    "# raise NotImplementedError()"
   ]
  },
  {
   "cell_type": "code",
   "execution_count": 29,
   "metadata": {
    "deletable": false,
    "editable": false,
    "nbgrader": {
     "cell_type": "code",
     "checksum": "4afc607a9d672843a767aa5308e96d05",
     "grade": true,
     "grade_id": "cell-469ab2097f0a3b5c",
     "locked": true,
     "points": 5,
     "schema_version": 3,
     "solution": false
    }
   },
   "outputs": [
    {
     "data": {
      "text/html": [
       "\n",
       "        <div class=\"alert alert-box alert-success\">\n",
       "        <h1> <!--{id:\"CORRECTMARK\", marks:\"5\"}--> \n",
       "         ✓ [5 marks] \n",
       "         </h1> </div>"
      ],
      "text/plain": [
       "<IPython.core.display.HTML object>"
      ]
     },
     "metadata": {},
     "output_type": "display_data"
    }
   ],
   "source": [
    "with tick.marks(5):\n",
    "    assert check_hash(y_cardinality, ((2000, 1), 225316103275.65204))"
   ]
  },
  {
   "cell_type": "markdown",
   "metadata": {
    "deletable": false,
    "editable": false,
    "nbgrader": {
     "cell_type": "markdown",
     "checksum": "c521d0d8e35bd7301fa9731a4906208f",
     "grade": false,
     "grade_id": "cell-8cd49cc1e4367a20",
     "locked": true,
     "schema_version": 3,
     "solution": false
    }
   },
   "source": [
    "We can then plot the distribution of the cardinality measurements... Validate that the histogram looks like you expect.\n"
   ]
  },
  {
   "cell_type": "code",
   "execution_count": 30,
   "metadata": {
    "deletable": false,
    "editable": false,
    "nbgrader": {
     "cell_type": "code",
     "checksum": "c015a7601bbca15964960fef1585e2dc",
     "grade": false,
     "grade_id": "cell-3b6782055dfc0064",
     "locked": true,
     "schema_version": 3,
     "solution": false,
     "task": false
    }
   },
   "outputs": [
    {
     "data": {
      "text/plain": [
       "Text(0.5, 1.0, 'Orginal')"
      ]
     },
     "execution_count": 30,
     "metadata": {},
     "output_type": "execute_result"
    },
    {
     "data": {
      "image/png": "[encoded data removed]",
      "text/plain": [
       "<Figure size 560x560 with 1 Axes>"
      ]
     },
     "metadata": {},
     "output_type": "display_data"
    }
   ],
   "source": [
    "fig = plt.figure(figsize=(4, 4))\n",
    "ax = fig.add_subplot(1, 1, 1)\n",
    "ax.hist(y_cardinality)\n",
    "ax.set_xlabel(\"Value\")\n",
    "ax.set_ylabel(\"Count\")\n",
    "ax.set_title(\"Orginal\")"
   ]
  },
  {
   "cell_type": "markdown",
   "metadata": {
    "deletable": false,
    "editable": false,
    "nbgrader": {
     "cell_type": "markdown",
     "checksum": "7356581903d9105faf0812b12f03c552",
     "grade": false,
     "grade_id": "cell-cd01255ed99c002f",
     "locked": true,
     "schema_version": 3,
     "solution": false
    }
   },
   "source": [
    "### Task D.5 Save the data for later use (and for testing/validation )"
   ]
  },
  {
   "cell_type": "code",
   "execution_count": 31,
   "metadata": {
    "deletable": false,
    "editable": false,
    "nbgrader": {
     "cell_type": "code",
     "checksum": "52a0ed6d63467c1907bb0eb53378d3d6",
     "grade": false,
     "grade_id": "cell-f4f35c73c686dcda",
     "locked": true,
     "schema_version": 3,
     "solution": false,
     "task": false
    }
   },
   "outputs": [],
   "source": [
    "np.savez(\"datalog.npz\", X=X, y_times=y_times, y_cardinality=y_cardinality)"
   ]
  },
  {
   "cell_type": "markdown",
   "metadata": {
    "deletable": false,
    "editable": false,
    "nbgrader": {
     "cell_type": "markdown",
     "checksum": "a5b701e84d960097330c826e4cc14f5d",
     "grade": false,
     "grade_id": "cell-0b0029e2290f0022",
     "locked": true,
     "schema_version": 3,
     "solution": false,
     "task": false
    }
   },
   "source": [
    "---"
   ]
  },
  {
   "cell_type": "markdown",
   "metadata": {
    "deletable": false,
    "editable": false,
    "nbgrader": {
     "cell_type": "markdown",
     "checksum": "37cfbb548b58a9e62314ae271da59704",
     "grade": false,
     "grade_id": "cell-06eca23562090ccf",
     "locked": true,
     "schema_version": 3,
     "solution": false
    }
   },
   "source": [
    "### Task D.6 Map from query to cardinality\n",
    "We are now interested in specifying a function which can map from a query (i.e. x=[c,s]) to the query cardinality for this database (i.e the Pandas DataFrame).\n",
    "\n",
    "The function is pre-defined as:\n",
    "\n",
    "$$f(x;\\theta ) = {w_0} + {w_1}c + {w_2}s + {w_3}{c^2} + {w_4}{s^2} + {w_5}{c^3} + {w_6}{s^3} + {w_7}{c^4} + {w_8}{s^4} + {w_9}\\cdot c \\cdot s \\,\\,\\,\\,\\,\\,\\,\\, (Eq. 3)$$\n",
    "\n",
    "where x is a query which is mapped through $f$ to the query cardinality. The loss defined as: \n",
    "\n",
    "$$L\\left( \\theta  \\right) = \\frac{1}{N} \\sum\\limits_{n = 1}^{N=2000} {{{\\left( { {y_n} - f({x_n};\\theta )} \\right)}^2}} $$\n",
    "\n",
    "You should now complete four classes/methods that the database team will be using in their estimation:\n",
    "\n",
    "- `output_process` \n",
    "- `input_process`\n",
    "- `predict`\n",
    "- `estimate`\n",
    "- `evaluate`\n",
    "\n",
    "**Hint**: It is recommend that you write the function in matrix form (use pen and paper) before attempting to implement it.\n",
    "\n",
    "Any method you implement must be based on pure Python and numpy (i.e. **you cannot use scikit learn or similar tools**).\n",
    "\n",
    "\n",
    "**Marking:** The overall marking is based on whether you manage to a) beat a baseline prediction, and b) come close to the correct solution. There are intermediate marks to help you along.\n",
    "\n"
   ]
  },
  {
   "cell_type": "code",
   "execution_count": 32,
   "metadata": {},
   "outputs": [],
   "source": [
    "# Load the generated data from the file\n",
    "# This makes it easier to mark and debug your solution at marking time\n",
    "# Hint: If you struggle to generate meaningful data in the previous part you can\n",
    "# load file called datalog_demo.npz instead,\n",
    "# which contains pre-generated observations.\n",
    "\n",
    "tmp = np.load(\"datalog.npz\")\n",
    "X = tmp[\"X\"]\n",
    "y_cardinality = tmp[\"y_cardinality\"]"
   ]
  },
  {
   "cell_type": "markdown",
   "metadata": {
    "deletable": false,
    "editable": false,
    "nbgrader": {
     "cell_type": "markdown",
     "checksum": "e7648d9c279a5eb8fddcefeb7079dd56",
     "grade": false,
     "grade_id": "cell-d9c7797c9a3869f2",
     "locked": true,
     "schema_version": 3,
     "solution": false
    }
   },
   "source": [
    "### Task D.7 Input and output processing\n",
    "Complete the `input_process` class for preprocessing the inputs, X (e.g. normalisaiton and other transforms of X). \n",
    "\n",
    "- `output_process`: is already provided and you shouldn't need to modify it. \n",
    "- `input_process`: you probably need to inspect the other functions and cells below (e.g. predict) to work out what to put here.\n"
   ]
  },
  {
   "cell_type": "code",
   "execution_count": 33,
   "metadata": {
    "deletable": false,
    "editable": false,
    "nbgrader": {
     "cell_type": "code",
     "checksum": "585adaf7aeb04565b38a7993b24cdb11",
     "grade": false,
     "grade_id": "cell-694b9deccaa54349",
     "locked": true,
     "schema_version": 3,
     "solution": false
    }
   },
   "outputs": [],
   "source": [
    "class output_process:\n",
    "    \"\"\"\n",
    "    A simple helper class which contains two functions for removing the mean of y and\n",
    "    adding it at prediction time\n",
    "\n",
    "    Requirement: y = rescale(scale(y))\n",
    "\n",
    "\n",
    "    \"\"\"\n",
    "\n",
    "    y_mean = None  # these are just proposals, you can modify the variables function as you se fit depending on if and how you wish to\n",
    "    y_std = None\n",
    "\n",
    "    def __init__(self, y):\n",
    "        self.y_mean = 0  # this is a trick, it is only 0 for now\n",
    "        self.y_mean = np.mean(self.scale(y), axis=0)\n",
    "\n",
    "    def scale(self, y):\n",
    "        \"\"\"\n",
    "        A function which scales/tranforms the y values, e.g. subtracting the mean.\n",
    "        \"\"\"\n",
    "        y_prime = y - self.y_mean\n",
    "        return y_prime\n",
    "\n",
    "    def rescale(self, y_prime):\n",
    "        \"\"\"\n",
    "        A function which re-scales/tranforms the y_prime value back to the orginal domain (e.g. undoes the effect of scale)\n",
    "        E.g., adding a constant such as the mean.\n",
    "\n",
    "        \"\"\"\n",
    "        y = y_prime + self.y_mean\n",
    "        y[y < 0] = 0  # avoid negative predictions\n",
    "        return y"
   ]
  },
  {
   "cell_type": "code",
   "execution_count": 34,
   "metadata": {
    "deletable": false,
    "nbgrader": {
     "cell_type": "code",
     "checksum": "e842707fde81cfc2882f150747add7c1",
     "grade": false,
     "grade_id": "cell-fd958952595f7cf5",
     "locked": false,
     "schema_version": 3,
     "solution": true
    }
   },
   "outputs": [],
   "source": [
    "class input_process:\n",
    "    \"\"\"\n",
    "    A simple class which contains two functions for processing the 2D observation of the query x=(c,s)\n",
    "    and returns a potentially scaled, normalised and expanded representation.\n",
    "    \"\"\"\n",
    "\n",
    "    X_mean = None  # proposal; the usage depends on you decicion to normalise X or not\n",
    "    X_std = None  # proposal; the usage depends on you decicion to standardise X or not\n",
    "\n",
    "    def __init__(self, X):\n",
    "        self.X_mean = 0  # this is a trick, it is only 0 for now\n",
    "        self.X_std = 1  # this is a trick, it is only 1 for now\n",
    "        self.X_mean = np.mean(self.process(X)[:, 1:], axis=0)\n",
    "        self.X_std = np.std(self.process(X)[:, 1:], axis=0)\n",
    "\n",
    "    def process(self, X):\n",
    "        \"\"\"\n",
    "        A function which takes the 2D in and processes the data, e.g. make a basis expansion and\n",
    "        standardise the result.\n",
    "\n",
    "        \"\"\"\n",
    "        basis_expansion = np.array([[1, x[0], x[1], x[0]**2, x[1]**2, x[0]**3, x[1]**3, x[0]**4, x[1]**4, x[0]*x[1]] for x in X])\n",
    "        X = np.copy(basis_expansion)\n",
    "\n",
    "        # YOUR CODE HERE\n",
    "        # raise NotImplementedError()\n",
    "        return X"
   ]
  },
  {
   "cell_type": "markdown",
   "metadata": {
    "deletable": false,
    "editable": false,
    "nbgrader": {
     "cell_type": "markdown",
     "checksum": "dc7773082923d82cf4427c092408884b",
     "grade": false,
     "grade_id": "cell-55f01d1be37d107a",
     "locked": true,
     "schema_version": 3,
     "solution": false
    }
   },
   "source": [
    "**Input process:**\n",
    "\n",
    "We can apply the input process to query and observe the effect. This is the tricky bit so make sure to validate that input_process works as intended (there are no automated test to check this!).\n",
    "\n",
    "**Note**: If you have done this the recommend/intended way, the output would not be 2D for each observations but rather 10D."
   ]
  },
  {
   "cell_type": "code",
   "execution_count": 35,
   "metadata": {
    "deletable": false,
    "editable": false,
    "nbgrader": {
     "cell_type": "code",
     "checksum": "a448ef5fc97819cfc2567eb34ace59a0",
     "grade": false,
     "grade_id": "cell-9605e919e8940b67",
     "locked": true,
     "schema_version": 3,
     "solution": false,
     "task": false
    }
   },
   "outputs": [
    {
     "name": "stdout",
     "output_type": "stream",
     "text": [
      "[[1.00000000e+00 2.53328719e+03 2.14600005e+02 6.41754400e+06\n",
      "  4.60531620e+04 1.62574820e+10 9.88300877e+06 4.11848710e+13\n",
      "  2.12089373e+09 5.43643443e+05]\n",
      " [1.00000000e+00 2.61674248e+03 2.70470995e+02 6.84734119e+06\n",
      "  7.31545591e+04 1.79177286e+10 1.97861864e+07 4.68860814e+13\n",
      "  5.35158951e+09 7.07752941e+05]\n",
      " [1.00000000e+00 2.56514731e+03 1.57563358e+02 6.57998073e+06\n",
      "  2.48262116e+04 1.68786199e+10 3.91170126e+06 4.32961464e+13\n",
      "  6.16340784e+08 4.04173223e+05]]\n"
     ]
    }
   ],
   "source": [
    "inprocess = input_process(X)\n",
    "x_demo = inprocess.process(X[0:3, :])  # take 3 queries and see what happens to them\n",
    "print(x_demo)"
   ]
  },
  {
   "cell_type": "markdown",
   "metadata": {
    "deletable": false,
    "editable": false,
    "nbgrader": {
     "cell_type": "markdown",
     "checksum": "99ac858ab4954cfb97ae44afad4134d0",
     "grade": false,
     "grade_id": "cell-bcf8a9f1be9bcb7f",
     "locked": true,
     "schema_version": 3,
     "solution": false
    }
   },
   "source": [
    "### Task D.8 Predict \n",
    "Implement a function that can predict the cardinality, $y$, of a query $x=[c,s]$ based on Eq. (3). The parameters are stored in `theta` (i.e. $w \\in \\mathbb{R}^{10}$), using only linear algebra/vector operations and calls to the relevant input and output process functions (these are shown). \n",
    "\n",
    "The function should return the estimate of the cardinality in $y$, and the scale prediction in y_prime. It must be able to make predictions for multiple observations in `X` (i.e. `X` is a matrix)."
   ]
  },
  {
   "cell_type": "code",
   "execution_count": 36,
   "metadata": {
    "deletable": false,
    "nbgrader": {
     "cell_type": "code",
     "checksum": "bb33c285bb64a2bce9520aa416180bb2",
     "grade": false,
     "grade_id": "cell-dfd4b8229a29f9c3",
     "locked": false,
     "schema_version": 3,
     "solution": true
    },
    "tags": []
   },
   "outputs": [],
   "source": [
    "def predict(X, theta, output_process, input_process):\n",
    "    if input_process is not None:  # note we use None when testing/marking\n",
    "        X = input_process.process(X)\n",
    "\n",
    "    # Hint: Only a single line of code is missing\n",
    "    y_prime = X.dot(theta)\n",
    "    \n",
    "    # YOUR CODE HERE\n",
    "    # raise NotImplementedError()\n",
    "\n",
    "    if output_process is not None:  # note we use None when testing/marking\n",
    "        y = output_process.rescale(y_prime)\n",
    "    else:\n",
    "        y = y_prime\n",
    "\n",
    "    return y, y_prime"
   ]
  },
  {
   "cell_type": "code",
   "execution_count": 37,
   "metadata": {
    "deletable": false,
    "editable": false,
    "nbgrader": {
     "cell_type": "code",
     "checksum": "a92f5dd43b133326f101144ce1e6c332",
     "grade": true,
     "grade_id": "cell-0d196fc6036aa3dd",
     "locked": true,
     "points": 5,
     "schema_version": 3,
     "solution": false
    }
   },
   "outputs": [
    {
     "data": {
      "text/html": [
       "\n",
       "        <div class=\"alert alert-box alert-success\">\n",
       "        <h1> <!--{id:\"CORRECTMARK\", marks:\"5\"}--> \n",
       "         ✓ [5 marks] \n",
       "         </h1> </div>"
      ],
      "text/plain": [
       "<IPython.core.display.HTML object>"
      ]
     },
     "metadata": {},
     "output_type": "display_data"
    }
   ],
   "source": [
    "# Test which test the core functionality of the predict function (it doesn't test the input and output process)\n",
    "\n",
    "with tick.marks(5):\n",
    "    X_test = np.array([[1.2, 8.54], [2.4, 4.5]])\n",
    "    theta = np.array([0.50722768, -1.32649421])\n",
    "    y_test, y_prime_test = predict(X_test, theta, None, None)\n",
    "\n",
    "    assert check_hash(y_test, ((2,), -48.182417152))\n",
    "    assert check_hash(y_prime_test, ((2,), -48.182417152))\n"
   ]
  },
  {
   "cell_type": "markdown",
   "metadata": {
    "deletable": false,
    "editable": false,
    "nbgrader": {
     "cell_type": "markdown",
     "checksum": "e8f88d03525b61b25d3f0e49b1af3a54",
     "grade": false,
     "grade_id": "cell-362c2123b19d7fa6",
     "locked": true,
     "schema_version": 3,
     "solution": false
    }
   },
   "source": [
    "### Task D.9\n",
    "Write a function which computes the mean squared error (mse) based on the difference between the predicted and true query cardinality. It should also return the mean absolute error and the relative absolute error (in percent) wrt to the actual observation for the absolute error (i.e. how many percent is the prediction wrong on average).\n",
    "\n",
    "\n"
   ]
  },
  {
   "cell_type": "code",
   "execution_count": 38,
   "metadata": {
    "deletable": false,
    "nbgrader": {
     "cell_type": "code",
     "checksum": "85df3f19a2d3ea1977257e8df62a0bb7",
     "grade": false,
     "grade_id": "cell-a15bc1f838a90a81",
     "locked": false,
     "schema_version": 3,
     "solution": true
    }
   },
   "outputs": [],
   "source": [
    "def evaluate(y_pred, y_true):\n",
    "    error_mse = np.mean((y_true - y_pred)**2)\n",
    "    error_abs = np.mean(np.abs(y_true - y_pred))\n",
    "    error_abs_relative = np.mean(np.abs(y_true - y_pred) / y_true) * 100\n",
    "\n",
    "    # YOUR CODE HERE\n",
    "    # raise NotImplementedError()\n",
    "    return error_mse, error_abs, error_abs_relative"
   ]
  },
  {
   "cell_type": "code",
   "execution_count": 39,
   "metadata": {
    "deletable": false,
    "editable": false,
    "nbgrader": {
     "cell_type": "code",
     "checksum": "6a13237db465c1cf8eb913689612fe5e",
     "grade": true,
     "grade_id": "cell-454b7f841eccafd1",
     "locked": true,
     "points": 5,
     "schema_version": 3,
     "solution": false
    }
   },
   "outputs": [
    {
     "data": {
      "text/html": [
       "\n",
       "        <div class=\"alert alert-box alert-success\">\n",
       "        <h1> <!--{id:\"CORRECTMARK\", marks:\"5\"}--> \n",
       "         ✓ [5 marks] \n",
       "         </h1> </div>"
      ],
      "text/plain": [
       "<IPython.core.display.HTML object>"
      ]
     },
     "metadata": {},
     "output_type": "display_data"
    }
   ],
   "source": [
    "# Test checkign the evaluate function\n",
    "with tick.marks(5):\n",
    "    a, b, c = evaluate(np.array([4.5, 6.2, -100.10]), np.array([14.5, -26.2, -110.10]))\n",
    "    assert check_hash(a, ((), 2082.9333333333334))\n",
    "    assert check_hash(b, ((), 87.33333333333333))\n",
    "    assert check_hash(c, ((), -106.30209505074754))\n",
    "    "
   ]
  },
  {
   "cell_type": "markdown",
   "metadata": {
    "deletable": false,
    "editable": false,
    "nbgrader": {
     "cell_type": "markdown",
     "checksum": "d23f48a79b9cbe5f7300fc50e6b2c9ad",
     "grade": false,
     "grade_id": "cell-cad2f60441371ba2",
     "locked": true,
     "schema_version": 3,
     "solution": false
    }
   },
   "source": [
    "### Task D.10\n",
    "Implement a function which estimates the parameters, i.e., the $w$'s stored in `theta`, of the function based on the squared error loss defined above.\n",
    "\n",
    "Hint: This should be done using only matrix operations and calls to the input/output process functions. You don't need numerical optimisation for this.\n"
   ]
  },
  {
   "cell_type": "code",
   "execution_count": 40,
   "metadata": {
    "deletable": false,
    "nbgrader": {
     "cell_type": "code",
     "checksum": "5f4d84c2572e02c1e6ad549da4474e8d",
     "grade": false,
     "grade_id": "cell-7be538ae4967aedd",
     "locked": false,
     "schema_version": 3,
     "solution": true
    }
   },
   "outputs": [],
   "source": [
    "def estimate(X, y, outprocess, inprocess):\n",
    "    \"\"\"\n",
    "    X: 2D queries/observations\n",
    "    y: observed cardinality (the orginal ones, i.e. not scaled or normalised)\n",
    "    outprocess: an instance of the output process class which is used to scale and rescale y\n",
    "    inprocess: an instance of the input process class which is used to process the 2D input in X in a sensible way\n",
    "    \"\"\"\n",
    "    if outprocess is not None:  # note we use None when testing/marking\n",
    "        y = outprocess.scale(y)\n",
    "\n",
    "    if inprocess is not None:  # note we use None when testing/marking\n",
    "        X = inprocess.process(X)\n",
    "\n",
    "    # Hint: 2-3 lines of code missing\n",
    "    theta = np.linalg.pinv(X) @ y\n",
    "\n",
    "    # YOUR CODE HERE\n",
    "    # raise NotImplementedError()\n",
    "    return theta"
   ]
  },
  {
   "cell_type": "code",
   "execution_count": 41,
   "metadata": {
    "deletable": false,
    "editable": false,
    "nbgrader": {
     "cell_type": "code",
     "checksum": "ceed57beaa3ee9352d956475b55384ca",
     "grade": true,
     "grade_id": "cell-a2237df87f9d5cee",
     "locked": true,
     "points": 7,
     "schema_version": 3,
     "solution": false
    }
   },
   "outputs": [
    {
     "data": {
      "text/html": [
       "\n",
       "        <div class=\"alert alert-box alert-success\">\n",
       "        <h1> <!--{id:\"CORRECTMARK\", marks:\"5\"}--> \n",
       "         ✓ [5 marks] \n",
       "         </h1> </div>"
      ],
      "text/plain": [
       "<IPython.core.display.HTML object>"
      ]
     },
     "metadata": {},
     "output_type": "display_data"
    }
   ],
   "source": [
    "# Hidden test validating the estimate function[5 MARKS]\n",
    "with tick.marks(5):\n",
    "    X_test = np.array([[1.2, 8.54, 9.77], [2.4, 4.5, -33.2]])\n",
    "    y_yest = np.array([1, 2])\n",
    "    theta_test = estimate(X_test, y_yest, None, None)\n",
    "    assert check_hash(theta_test, ((3,), 0.5095082848719855))\n"
   ]
  },
  {
   "cell_type": "markdown",
   "metadata": {
    "deletable": false,
    "editable": false,
    "nbgrader": {
     "cell_type": "markdown",
     "checksum": "83140de5d03f31fbb28fe2ba88a06fdd",
     "grade": false,
     "grade_id": "cell-07d25aaa67811129",
     "locked": true,
     "schema_version": 3,
     "solution": false
    }
   },
   "source": [
    "### Task D.11\n",
    "\n",
    "We can now put it all together and check if we are able to make sensible fit to the data.\n",
    "\n",
    "Note: It might be necessary to revisit your implementation above in case you do not get a sensible fit in the first attempt.\n"
   ]
  },
  {
   "cell_type": "code",
   "execution_count": 42,
   "metadata": {
    "deletable": false,
    "editable": false,
    "nbgrader": {
     "cell_type": "code",
     "checksum": "d3b8ae7bbf2e28f5d853162cb36e53c9",
     "grade": false,
     "grade_id": "cell-4c97d8859edb6d96",
     "locked": true,
     "schema_version": 3,
     "solution": false
    }
   },
   "outputs": [
    {
     "name": "stdout",
     "output_type": "stream",
     "text": [
      "The mse error is:  160794948.51749617\n",
      "The abs error is:  9488.508725630818\n",
      "The releative abs error is [pct]:  12.461407272605152\n"
     ]
    }
   ],
   "source": [
    "inprocess = input_process(X)\n",
    "outprocess = output_process(y_cardinality)\n",
    "theta = estimate(X, y_cardinality, outprocess, inprocess)\n",
    "y_pred, y_prime_pred = predict(X, theta, outprocess, inprocess)\n",
    "error_mse, error_abs, error_abs_rel = evaluate(y_pred, y_cardinality)\n",
    "\n",
    "print(\"The mse error is: \", error_mse)\n",
    "print(\"The abs error is: \", error_abs)\n",
    "print(\"The releative abs error is [pct]: \", error_abs_rel)"
   ]
  },
  {
   "cell_type": "markdown",
   "metadata": {
    "deletable": false,
    "editable": false,
    "nbgrader": {
     "cell_type": "markdown",
     "checksum": "7b5742039e647c112427bc2b52457c36",
     "grade": false,
     "grade_id": "cell-475f10c2e1f5113d",
     "locked": true,
     "schema_version": 3,
     "solution": false
    }
   },
   "source": [
    "### Task D.12\n",
    "\n",
    "To evaluate the quality of your fit it is often useful to produce visualisation to aid our analysis. For this purpose you should now:\n",
    "\n",
    "- Create a plot of the cardinality vs the ones estimated by the model. Include a line to illustrate the ideal prediction.\n",
    "- Create a figure showing the distribution of errors\n",
    "- Create a figure visualising the squared error against the the query cardinality \n",
    "\n",
    "\n",
    "Note: These are not assessed per se but suggested for your benefit. They will be written to the pdf file and inspected manually."
   ]
  },
  {
   "cell_type": "code",
   "execution_count": 43,
   "metadata": {
    "deletable": false,
    "nbgrader": {
     "cell_type": "code",
     "checksum": "aa7b33b8ca62916aaa2f960a555268b6",
     "grade": false,
     "grade_id": "cell-d407661871bc34fe",
     "locked": false,
     "schema_version": 3,
     "solution": true
    }
   },
   "outputs": [
    {
     "data": {
      "text/plain": [
       "[<matplotlib.lines.Line2D at 0x222a4aee170>]"
      ]
     },
     "execution_count": 43,
     "metadata": {},
     "output_type": "execute_result"
    },
    {
     "data": {
      "image/png": "[encoded data removed]",
      "text/plain": [
       "<Figure size 700x700 with 1 Axes>"
      ]
     },
     "metadata": {},
     "output_type": "display_data"
    }
   ],
   "source": [
    "fig_312a = plt.figure(figsize=(5, 5))  # DO NOT CHANGE\n",
    "ax_312a = (\n",
    "    fig_312a.add_subplot()\n",
    ")  # DO NOT CHANGE - YOU MUST ADD YOUR FIGURE TO THIS AXIS\n",
    "#######################################################\n",
    "ax_312a.set_title(\"The cardinality VS. The ones estimated by the model\")\n",
    "ax_312a.scatter(y_pred, y_cardinality, s=0.1)\n",
    "ax_312a.plot([100, 380000], [100, 380000], color='r')\n",
    "\n",
    "# YOUR CODE HERE\n",
    "# raise NotImplementedError()"
   ]
  },
  {
   "cell_type": "code",
   "execution_count": 44,
   "metadata": {
    "deletable": false,
    "nbgrader": {
     "cell_type": "code",
     "checksum": "5772bbebfde617d3326a8097d6321da0",
     "grade": false,
     "grade_id": "cell-3a4014d0843bcb41",
     "locked": false,
     "schema_version": 3,
     "solution": true
    }
   },
   "outputs": [
    {
     "data": {
      "text/plain": [
       "Text(0.5, 1.0, 'The distribution of errors')"
      ]
     },
     "execution_count": 44,
     "metadata": {},
     "output_type": "execute_result"
    },
    {
     "data": {
      "image/png": "[encoded data removed]",
      "text/plain": [
       "<Figure size 700x700 with 1 Axes>"
      ]
     },
     "metadata": {},
     "output_type": "display_data"
    }
   ],
   "source": [
    "fig_312b = plt.figure(figsize=(5, 5))  # DO NOT CHANGE\n",
    "ax_312b = fig_312b.add_subplot(\n",
    "    1, 1, 1\n",
    ")  # DO NOT CHANGE - YOU MUST ADD YOUR FIGURE TO THIS AXIS\n",
    "#######################################################\n",
    "errors = y_pred - y_cardinality\n",
    "ax_312b.hist(errors)\n",
    "ax_312b.set_title(\"The distribution of errors\")\n",
    "\n",
    "\n",
    "# YOUR CODE HERE\n",
    "# raise NotImplementedError()"
   ]
  },
  {
   "cell_type": "code",
   "execution_count": 45,
   "metadata": {
    "deletable": false,
    "nbgrader": {
     "cell_type": "code",
     "checksum": "2e83d1ac595656a8c837b440f13582fa",
     "grade": false,
     "grade_id": "cell-31a7db9c3ab88a1d",
     "locked": false,
     "schema_version": 3,
     "solution": true
    }
   },
   "outputs": [
    {
     "data": {
      "text/plain": [
       "<matplotlib.collections.PathCollection at 0x222918e79a0>"
      ]
     },
     "execution_count": 45,
     "metadata": {},
     "output_type": "execute_result"
    },
    {
     "data": {
      "image/png": "[encoded data removed]",
      "text/plain": [
       "<Figure size 700x700 with 1 Axes>"
      ]
     },
     "metadata": {},
     "output_type": "display_data"
    }
   ],
   "source": [
    "fig_312c = plt.figure(figsize=(5, 5))  # DO NOT CHANGE\n",
    "ax_312c = fig_312c.add_subplot(\n",
    "    1, 1, 1\n",
    ")  # DO NOT CHANGE - YOU MUST ADD YOUR FIGURE TO THIS AXIS\n",
    "#######################################################\n",
    "ax_312c.set_title(\"The squared error against the query cardinality\")\n",
    "ax_312c.scatter(y_cardinality, errors**2, s=0.1)\n",
    "\n",
    "# YOUR CODE HERE\n",
    "# raise NotImplementedError()"
   ]
  },
  {
   "cell_type": "markdown",
   "metadata": {
    "deletable": false,
    "editable": false,
    "nbgrader": {
     "cell_type": "markdown",
     "checksum": "12ce3d79a92a8d9423303be93a3f6c52",
     "grade": false,
     "grade_id": "cell-9144be00830ee47d",
     "locked": true,
     "schema_version": 3,
     "solution": false
    }
   },
   "source": [
    "### Task D.13 Baselines\n",
    "To determine if your model is worth deploying and using for estimating the database load, your database team has requested you compare your function/fit to a naiive baseline.\n",
    "\n",
    "\n",
    "The two baseline are:\n",
    "- a) use the mean of the observation as the prediction for all queries \n",
    "- b) use the median of the observation as the prediction for all queries.   \n",
    "\n",
    "Complete the `predict_average` and `predict_median` function below and compare with your predictive model.\n"
   ]
  },
  {
   "cell_type": "code",
   "execution_count": 46,
   "metadata": {
    "deletable": false,
    "nbgrader": {
     "cell_type": "code",
     "checksum": "f292e68ec937697e0c6d255f944e3fd9",
     "grade": false,
     "grade_id": "cell-48d18c20fb902f2f",
     "locked": false,
     "schema_version": 3,
     "solution": true
    }
   },
   "outputs": [],
   "source": [
    "def predict_average(y):\n",
    "    y_avg = np.mean(y)\n",
    "    print(y_avg)\n",
    "\n",
    "    # YOUR CODE HERE\n",
    "    # raise NotImplementedError()\n",
    "    return y_avg"
   ]
  },
  {
   "cell_type": "code",
   "execution_count": 47,
   "metadata": {
    "deletable": false,
    "nbgrader": {
     "cell_type": "code",
     "checksum": "846f8915ac46fbf846bb6c205e4c20a7",
     "grade": false,
     "grade_id": "cell-08c75b6ec3984876",
     "locked": false,
     "schema_version": 3,
     "solution": true
    }
   },
   "outputs": [],
   "source": [
    "def predict_median(y):\n",
    "    y_med = np.median(y)\n",
    "    print(y_med)\n",
    "\n",
    "    # YOUR CODE HERE\n",
    "    # raise NotImplementedError()\n",
    "    return y_med"
   ]
  },
  {
   "cell_type": "code",
   "execution_count": 48,
   "metadata": {
    "deletable": false,
    "editable": false,
    "nbgrader": {
     "cell_type": "code",
     "checksum": "c2ff0b4ba54bbdd4d3d626a5d24978f1",
     "grade": true,
     "grade_id": "cell-61554637c0d4684d",
     "locked": true,
     "points": 0,
     "schema_version": 3,
     "solution": false
    }
   },
   "outputs": [
    {
     "name": "stdout",
     "output_type": "stream",
     "text": [
      "3.95\n",
      "4.6\n"
     ]
    },
    {
     "data": {
      "text/html": [
       "\n",
       "        <div class=\"alert alert-box alert-success\">\n",
       "        <h1> <!--{id:\"CORRECTMARK\", marks:\"0\"}--> \n",
       "         ✓ [0 marks] \n",
       "         </h1> </div>"
      ],
      "text/plain": [
       "<IPython.core.display.HTML object>"
      ]
     },
     "metadata": {},
     "output_type": "display_data"
    }
   ],
   "source": [
    "# Check that the baselines work as expected\n",
    "with tick.marks(0):\n",
    "    baseline_is_corrrect = False\n",
    "    y_test = np.array([-3.4, 3, 6.2, 10])\n",
    "    y_test_avg = predict_average(y_test)\n",
    "    y_test_median = predict_median(y_test)\n",
    "    assert check_hash(y_test_avg, ((), 19.75))\n",
    "    assert check_hash(y_test_median, ((), 23.0))\n",
    "    baseline_is_corrrect = True\n"
   ]
  },
  {
   "cell_type": "code",
   "execution_count": 49,
   "metadata": {
    "deletable": false,
    "editable": false,
    "nbgrader": {
     "cell_type": "code",
     "checksum": "0d42751160c9d94a12e51490c7a35a14",
     "grade": false,
     "grade_id": "cell-81a0981a551cc68f",
     "locked": true,
     "schema_version": 3,
     "solution": false
    }
   },
   "outputs": [
    {
     "name": "stdout",
     "output_type": "stream",
     "text": [
      "112207.0565\n",
      "The mse error is:  5016902431.878307\n",
      "The abs error is:  59481.918393\n",
      "The relative abs error is [pct]:  90.30818907604285\n",
      "97909.5\n",
      "The mse error is:  5221322553.749\n",
      "The abs error is:  58515.8055\n",
      "The relative abs error is [pct]:  77.97455583663039\n"
     ]
    }
   ],
   "source": [
    "# Evaluate the baselines\n",
    "\n",
    "y_pred_bl = predict_average(y_cardinality)\n",
    "error_mse_bl, error_abs_bl, error_abs_rel_bl = evaluate(y_pred_bl, y_cardinality)\n",
    "print(\"The mse error is: \", error_mse_bl)\n",
    "print(\"The abs error is: \", error_abs_bl)\n",
    "print(\"The relative abs error is [pct]: \", error_abs_rel_bl)\n",
    "\n",
    "y_pred_blmed = predict_median(y_cardinality)\n",
    "error_mse_bl, error_abs_bl, error_abs_rel_bl = evaluate(y_pred_blmed, y_cardinality)\n",
    "print(\"The mse error is: \", error_mse_bl)\n",
    "print(\"The abs error is: \", error_abs_bl)\n",
    "print(\"The relative abs error is [pct]: \", error_abs_rel_bl)"
   ]
  },
  {
   "cell_type": "markdown",
   "metadata": {},
   "source": [
    "Overall marking of your function..."
   ]
  },
  {
   "cell_type": "code",
   "execution_count": 50,
   "metadata": {
    "deletable": false,
    "editable": false,
    "nbgrader": {
     "cell_type": "code",
     "checksum": "48a88b8ba43c2f7aa7a8973177315a70",
     "grade": true,
     "grade_id": "cell-ba54b9bebe0b55f9",
     "locked": true,
     "points": 0,
     "schema_version": 3,
     "solution": false
    }
   },
   "outputs": [
    {
     "data": {
      "text/html": [
       "\n",
       "        <div class=\"alert alert-box alert-success\">\n",
       "        <h1> <!--{id:\"CORRECTMARK\", marks:\"0\"}--> \n",
       "         ✓ [0 marks] \n",
       "         </h1> </div>"
      ],
      "text/plain": [
       "<IPython.core.display.HTML object>"
      ]
     },
     "metadata": {},
     "output_type": "display_data"
    }
   ],
   "source": [
    "# Check if you could beat the median baseline\n",
    "with tick.marks(0):\n",
    "    error_mse_bl, error_abs_bl, error_abs_rel_bl = evaluate(y_pred_blmed, y_cardinality)\n",
    "    assert baseline_is_corrrect\n",
    "    assert error_abs_rel < error_abs_rel_bl\n",
    "\n",
    "    "
   ]
  },
  {
   "cell_type": "code",
   "execution_count": 51,
   "metadata": {
    "deletable": false,
    "editable": false,
    "nbgrader": {
     "cell_type": "code",
     "checksum": "f8c7463d7b57184cf5a3981ab89ed92a",
     "grade": true,
     "grade_id": "cell-8535d8f72253afc8",
     "locked": true,
     "points": 5,
     "schema_version": 3,
     "solution": false
    }
   },
   "outputs": [],
   "source": [
    "## Hidden test, you'll get 5 marks for obtaining a competetive performance close to our implementation\n",
    "# You'd need munually validation that you have obtained is a sensible and competetive solution."
   ]
  },
  {
   "cell_type": "markdown",
   "metadata": {
    "deletable": false,
    "editable": false,
    "nbgrader": {
     "cell_type": "markdown",
     "checksum": "84de8fa5687a3c321f125aef8f5ee562",
     "grade": false,
     "grade_id": "cell-81990b3f2232d8f3",
     "locked": true,
     "schema_version": 3,
     "solution": false,
     "task": false
    }
   },
   "source": [
    "---\n",
    "\n",
    "**No more assessed questions... remember to generate the pdf!**\n",
    "\n",
    "---"
   ]
  },
  {
   "cell_type": "markdown",
   "metadata": {
    "deletable": false,
    "editable": false,
    "nbgrader": {
     "cell_type": "markdown",
     "checksum": "0388b959299a3246efc7d1bd138c5079",
     "grade": false,
     "grade_id": "cell-01df704d292b0ae8",
     "locked": true,
     "schema_version": 3,
     "solution": false,
     "task": false
    }
   },
   "source": [
    "### Task X: Optional challenges\n",
    "Several improvements could be considered for the function/implementation in Part 3:\n",
    "- The function we have specified in Eq. (3) is unlikely to be the best option for this purpose. You may want to try the neural network we implemented in Lab 2 - or perhaps other variations of the function suggested. \n",
    "- The cardinality is an integer, but our prediction function does not take that into account (we could consider ordinal regression). \n",
    "- We handle the negative predictions by truncating the predictions; ideally, this should be inherent to the model (i.e., via the loss function).\n",
    "- The function we have fitted probably only works well for the specific query dataset; we should test it on an unseen query dataset - or at least held-out-queries from the current dataset - to make sure it generalizes.\n",
    "- Can you also predict the query time using this approach?\n",
    "- ...\n",
    "\n",
    "We would be happy to look over notebooks addressing these issues, but you will not get extra credit."
   ]
  },
  {
   "cell_type": "markdown",
   "metadata": {
    "deletable": false,
    "editable": false,
    "nbgrader": {
     "cell_type": "markdown",
     "checksum": "12aee4e12a7a9c97e15b2cb6f0a3c2da",
     "grade": false,
     "grade_id": "cell-fb244b3ca5c934eb",
     "locked": true,
     "schema_version": 3,
     "solution": false
    }
   },
   "source": [
    "-----"
   ]
  },
  {
   "cell_type": "markdown",
   "metadata": {
    "deletable": false,
    "editable": false,
    "nbgrader": {
     "cell_type": "markdown",
     "checksum": "819034820d13eb57a270260b4099c1f5",
     "grade": false,
     "grade_id": "cell-d08d4a75c8006022",
     "locked": true,
     "schema_version": 3,
     "solution": false
    }
   },
   "source": [
    "# Submission on Moodle"
   ]
  },
  {
   "cell_type": "markdown",
   "metadata": {
    "deletable": false,
    "editable": false,
    "nbgrader": {
     "cell_type": "markdown",
     "checksum": "5bfa08f78a7ebed65f3504fdba32ea4e",
     "grade": false,
     "grade_id": "cell-6c7b3819abd32986",
     "locked": true,
     "schema_version": 3,
     "solution": false
    }
   },
   "source": [
    "\n",
    "We will generate the **one** pdf file you'll need to submit **along** with the notebook. **DO NOT RENAME THE FILES!**\n",
    "\n",
    "*Note*: you do not need to worry about the formatting etc (that's predetermined)\n"
   ]
  },
  {
   "cell_type": "code",
   "execution_count": 52,
   "metadata": {
    "deletable": false,
    "editable": false,
    "nbgrader": {
     "cell_type": "code",
     "checksum": "b6e9a57172d6b703c55206523fde21de",
     "grade": false,
     "grade_id": "cell-b36e056221228fa7",
     "locked": true,
     "schema_version": 3,
     "solution": false
    }
   },
   "outputs": [
    {
     "data": {
      "text/html": [
       "\n",
       "        <div class=\"alert alert-box alert-success\">\n",
       "        <h1> <!--{id:\"CORRECTMARK\", marks:\"0\"}--> \n",
       "         ✓ [0 marks] \n",
       "         </h1> </div>"
      ],
      "text/plain": [
       "<IPython.core.display.HTML object>"
      ]
     },
     "metadata": {},
     "output_type": "display_data"
    },
    {
     "data": {
      "text/plain": [
       "<Figure size 1400x1680 with 0 Axes>"
      ]
     },
     "metadata": {},
     "output_type": "display_data"
    }
   ],
   "source": [
    "## Report generation - YOU MUST YOU RUN THIS CELL !\n",
    "#\n",
    "# Ignore warnings regarding fonts\n",
    "#\n",
    "from matplotlib.backends.backend_pdf import PdfPages\n",
    "\n",
    "# Declaration of originality with system info\n",
    "try:\n",
    "    f = open(\"uofg_declaration_of_originality.txt\", \"r\")\n",
    "    uofg_declaration_of_originality = f.read()\n",
    "except:\n",
    "    uofg_declaration_of_originality = (\n",
    "        \"uofg_declaration_of_originality not present in cwd\"\n",
    "    )\n",
    "\n",
    "try:\n",
    "    student_id.lower()\n",
    "except:\n",
    "    student_id = \"NORESPONSE\"\n",
    "try:\n",
    "    student_typewritten_signature.lower()\n",
    "except:\n",
    "    student_typewritten_signature = \"NORESPONSE\"\n",
    "\n",
    "fn = \"idss_lab4_dsinpractice_%s_declaration.pdf\" % (student_id.lower())\n",
    "fig_dec = plt.figure(figsize=(10, 12))\n",
    "fig_dec.text(\n",
    "    0.1,\n",
    "    0.1,\n",
    "    (\n",
    "        \"%s\\n\\n Student Id %s\\n\\n Typewritten signature: %s\\n\\n UUID System: %s\"\n",
    "        % (\n",
    "            uofg_declaration_of_originality,\n",
    "            student_id,\n",
    "            student_typewritten_signature,\n",
    "            uuid_system,\n",
    "        )\n",
    "    ),\n",
    ")\n",
    "\n",
    "# Combined:\n",
    "fn = \"idss_lab4_dsinpractice_%s_combined_v20212022b.pdf\" % (student_id)\n",
    "pp = PdfPages(fn)\n",
    "pp.savefig(fig_312a)\n",
    "pp.savefig(fig_312b)\n",
    "pp.savefig(fig_312c)\n",
    "pp.savefig(fig_dec)\n",
    "pp.close()\n",
    "\n",
    "with tick.marks(\n",
    "    0\n",
    "):  # have you generated the combined file...? you don't actually get any credit for this; just confirmation that the file has been generated\n",
    "    assert os.path.exists(fn)"
   ]
  },
  {
   "cell_type": "markdown",
   "metadata": {
    "deletable": false,
    "editable": false,
    "nbgrader": {
     "cell_type": "markdown",
     "checksum": "dbd020314a61501ff22d3be7f3e3be04",
     "grade": false,
     "grade_id": "cell-c32d892a2f810ab0",
     "locked": true,
     "schema_version": 3,
     "solution": false
    }
   },
   "source": [
    "**You must (for full or partial marks) submit TWO files via Moodle:**\n",
    "\n",
    "- this notebook (completed) after \"Restart and rerun all\":\n",
    "    - `idss_lab4_dsinpractice_v20222023b.ipynb`\n",
    "    \n",
    "- the combined pdf (autogenerated) containing the relevant figures and answers for the manual marking:\n",
    "     - `idss_lab4_dsinpractice_[YOUR STUDENT ID]_combined_v20222023b.pdf`)     \n",
    "    "
   ]
  },
  {
   "cell_type": "markdown",
   "metadata": {
    "deletable": false,
    "editable": false,
    "nbgrader": {
     "cell_type": "markdown",
     "checksum": "7436c9f8aa2f3b86c17ec7e36bc6b1a3",
     "grade": false,
     "grade_id": "cell-530afe415c5eb50f",
     "locked": true,
     "schema_version": 3,
     "solution": false
    }
   },
   "source": [
    "\n",
    "---"
   ]
  },
  {
   "cell_type": "markdown",
   "metadata": {
    "deletable": false,
    "editable": false,
    "nbgrader": {
     "cell_type": "markdown",
     "checksum": "28bff9c9a0f598581776484b181b3427",
     "grade": false,
     "grade_id": "cell-b0ccdfd6f69b03dc",
     "locked": true,
     "schema_version": 3,
     "solution": false
    }
   },
   "source": [
    "# Appendix: Marking Summary (and other metadata)\n",
    "**Make sure the notebook runs without errors (remove/resolve the `raise NotImplementedError()`) and \"Restart and Rerun All\" cells to get a correct indication of your marks.**"
   ]
  },
  {
   "cell_type": "code",
   "execution_count": 53,
   "metadata": {
    "deletable": false,
    "editable": false,
    "nbgrader": {
     "cell_type": "code",
     "checksum": "0a8be1654f4245168dc839b041a85cfa",
     "grade": true,
     "grade_id": "cell-1fa128795b30c9c3",
     "locked": true,
     "points": 0,
     "schema_version": 3,
     "solution": false
    }
   },
   "outputs": [
    {
     "name": "stdout",
     "output_type": "stream",
     "text": [
      "Marks total :  100\n",
      "Marks visible (with immediate feedback):  72\n",
      "Marks hidden (without immediate feedback):  28\n",
      "\n",
      "The fraction below displays your performance on the autograded part of the lab that's visible with feedback (only valid after `Restart and Run all`:\n"
     ]
    },
    {
     "data": {
      "text/html": [
       "<!--{id:\"TOTALMARK\",marks:\"57\", available:\"57\"}  -->\n",
       "        \n",
       "        <h1> 57 / 57 marks (100.0%) </h1>\n",
       "        "
      ],
      "text/plain": [
       "<IPython.core.display.HTML object>"
      ]
     },
     "metadata": {},
     "output_type": "display_data"
    }
   ],
   "source": [
    "print(\"Marks total : \", \"100\")\n",
    "print(\"Marks visible (with immediate feedback): \", \"72\")\n",
    "print(\"Marks hidden (without immediate feedback): \", \"28\")\n",
    "print(\n",
    "    \"\\nThe fraction below displays your performance on the autograded part of the lab that's visible with feedback (only valid after `Restart and Run all`:\"\n",
    ")\n",
    "tick.summarise_marks()  #"
   ]
  },
  {
   "cell_type": "markdown",
   "metadata": {
    "deletable": false,
    "editable": false,
    "nbgrader": {
     "cell_type": "markdown",
     "checksum": "62b80f500969c62bc0628a90ad41eea6",
     "grade": false,
     "grade_id": "cell-9a26f6437b8f2a62",
     "locked": true,
     "schema_version": 3,
     "solution": false
    }
   },
   "source": [
    "---"
   ]
  }
 ],
 "metadata": {
  "kernelspec": {
   "display_name": "Python 3 (ipykernel)",
   "language": "python",
   "name": "python3"
  },
  "language_info": {
   "codemirror_mode": {
    "name": "ipython",
    "version": 3
   },
   "file_extension": ".py",
   "mimetype": "text/x-python",
   "name": "python",
   "nbconvert_exporter": "python",
   "pygments_lexer": "ipython3",
   "version": "3.10.4"
  },
  "vscode": {
   "interpreter": {
    "hash": "f2ea9be74a6c920c6c49b531bbc17abc564547069dbb6598cfaff2776b1d1534"
   }
  }
 },
 "nbformat": 4,
 "nbformat_minor": 4
}
